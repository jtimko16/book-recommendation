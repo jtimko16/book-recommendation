{
 "cells": [
  {
   "cell_type": "markdown",
   "metadata": {},
   "source": [
    "### Clean genres access via API"
   ]
  },
  {
   "cell_type": "code",
   "execution_count": 1,
   "metadata": {},
   "outputs": [],
   "source": [
    "import pandas as pd"
   ]
  },
  {
   "cell_type": "code",
   "execution_count": 4,
   "metadata": {},
   "outputs": [
    {
     "data": {
      "text/html": [
       "<div>\n",
       "<style scoped>\n",
       "    .dataframe tbody tr th:only-of-type {\n",
       "        vertical-align: middle;\n",
       "    }\n",
       "\n",
       "    .dataframe tbody tr th {\n",
       "        vertical-align: top;\n",
       "    }\n",
       "\n",
       "    .dataframe thead th {\n",
       "        text-align: right;\n",
       "    }\n",
       "</style>\n",
       "<table border=\"1\" class=\"dataframe\">\n",
       "  <thead>\n",
       "    <tr style=\"text-align: right;\">\n",
       "      <th></th>\n",
       "      <th>ISBN</th>\n",
       "      <th>Title</th>\n",
       "      <th>Genres</th>\n",
       "    </tr>\n",
       "  </thead>\n",
       "  <tbody>\n",
       "    <tr>\n",
       "      <th>0</th>\n",
       "      <td>1841193429</td>\n",
       "      <td>Looking for Lovedu</td>\n",
       "      <td>Africa, description and travel, Fiction, general</td>\n",
       "    </tr>\n",
       "    <tr>\n",
       "      <th>1</th>\n",
       "      <td>8877824476</td>\n",
       "      <td>Matilde</td>\n",
       "      <td>Unknown Genre</td>\n",
       "    </tr>\n",
       "    <tr>\n",
       "      <th>2</th>\n",
       "      <td>059045174X</td>\n",
       "      <td>The Field Beyond the Outfield</td>\n",
       "      <td>Children's fiction, Baseball, fiction</td>\n",
       "    </tr>\n",
       "    <tr>\n",
       "      <th>3</th>\n",
       "      <td>1840243503</td>\n",
       "      <td>Brazil: Life, Blood, Soul</td>\n",
       "      <td>History, Nonfiction, Travel, Description and t...</td>\n",
       "    </tr>\n",
       "    <tr>\n",
       "      <th>4</th>\n",
       "      <td>1884956173</td>\n",
       "      <td>Damn! Why didn't I write that?</td>\n",
       "      <td>Authorship, Marketing, Authorship, marketing</td>\n",
       "    </tr>\n",
       "  </tbody>\n",
       "</table>\n",
       "</div>"
      ],
      "text/plain": [
       "         ISBN                           Title  \\\n",
       "0  1841193429              Looking for Lovedu   \n",
       "1  8877824476                         Matilde   \n",
       "2  059045174X   The Field Beyond the Outfield   \n",
       "3  1840243503       Brazil: Life, Blood, Soul   \n",
       "4  1884956173  Damn! Why didn't I write that?   \n",
       "\n",
       "                                              Genres  \n",
       "0   Africa, description and travel, Fiction, general  \n",
       "1                                      Unknown Genre  \n",
       "2              Children's fiction, Baseball, fiction  \n",
       "3  History, Nonfiction, Travel, Description and t...  \n",
       "4       Authorship, Marketing, Authorship, marketing  "
      ]
     },
     "execution_count": 4,
     "metadata": {},
     "output_type": "execute_result"
    }
   ],
   "source": [
    "df_genres = pd.read_csv('interm_outputs/book_genres_api.csv')\n",
    "df_genres.head(5)"
   ]
  },
  {
   "cell_type": "code",
   "execution_count": null,
   "metadata": {},
   "outputs": [],
   "source": []
  }
 ],
 "metadata": {
  "kernelspec": {
   "display_name": ".venv",
   "language": "python",
   "name": "python3"
  },
  "language_info": {
   "codemirror_mode": {
    "name": "ipython",
    "version": 3
   },
   "file_extension": ".py",
   "mimetype": "text/x-python",
   "name": "python",
   "nbconvert_exporter": "python",
   "pygments_lexer": "ipython3",
   "version": "3.11.9"
  }
 },
 "nbformat": 4,
 "nbformat_minor": 2
}
