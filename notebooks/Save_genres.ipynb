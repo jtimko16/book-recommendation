{
 "cells": [
  {
   "cell_type": "code",
   "execution_count": 45,
   "metadata": {},
   "outputs": [],
   "source": [
    "import requests\n",
    "import pandas as pd\n",
    "from concurrent.futures import ThreadPoolExecutor, as_completed\n",
    "from tqdm import tqdm  # For progress bar\n",
    "import numpy as np"
   ]
  },
  {
   "cell_type": "code",
   "execution_count": 46,
   "metadata": {},
   "outputs": [],
   "source": [
    "# Load ISBNs from a CSV file or list\n",
    "isbn_list = [\"9780143126560\", \"9780062316097\", \"9781451648539\"] "
   ]
  },
  {
   "cell_type": "markdown",
   "metadata": {},
   "source": [
    "### Import list of ISBN"
   ]
  },
  {
   "cell_type": "code",
   "execution_count": 47,
   "metadata": {},
   "outputs": [
    {
     "name": "stdout",
     "output_type": "stream",
     "text": [
      "Number of ISBNs: 340556\n"
     ]
    }
   ],
   "source": [
    "df_ratings = pd.read_csv('../data/ratings.csv')\n",
    "isbn_list = df_ratings['ISBN'].to_list()\n",
    "isbn_list = list(set(isbn_list)) ## Keep only unique ISBNs\n",
    "\n",
    "print(f\"Number of ISBNs: {len(isbn_list)}\")"
   ]
  },
  {
   "cell_type": "code",
   "execution_count": 48,
   "metadata": {},
   "outputs": [],
   "source": [
    "isbn_list = isbn_list[:50] ## For testing"
   ]
  },
  {
   "cell_type": "markdown",
   "metadata": {},
   "source": [
    "#### Function to fetch book genre"
   ]
  },
  {
   "cell_type": "code",
   "execution_count": 49,
   "metadata": {},
   "outputs": [],
   "source": [
    "def fetch_genre(isbn):\n",
    "    url = f\"https://openlibrary.org/api/books?bibkeys=ISBN:{isbn}&format=json&jscmd=data\"\n",
    "    try:\n",
    "        response = requests.get(url, timeout=10)\n",
    "        response.raise_for_status()\n",
    "        data = response.json()\n",
    "        book_key = f\"ISBN:{isbn}\"\n",
    "        \n",
    "        if book_key in data:\n",
    "            book_info = data[book_key]\n",
    "            title = book_info.get(\"title\", \"Unknown Title\")\n",
    "            genres = [sub[\"name\"] for sub in book_info.get(\"subjects\", [])] or [\"Unknown Genre\"]\n",
    "            return {\"ISBN\": isbn, \"Title\": title, \"Genres\": \", \".join(genres)}\n",
    "    \n",
    "    except requests.exceptions.RequestException as e:\n",
    "        print(f\"Error fetching ISBN {isbn}: {e}\")\n",
    "        return {\"ISBN\": isbn, \"Title\": \"Error\", \"Genres\": \"Error\"}\n",
    "    \n",
    "    return {\"ISBN\": isbn, \"Title\": \"Not Found\", \"Genres\": \"Not Found\"}"
   ]
  },
  {
   "cell_type": "code",
   "execution_count": 50,
   "metadata": {},
   "outputs": [
    {
     "data": {
      "text/plain": [
       "{'ISBN': '9780143126560',\n",
       " 'Title': 'Getting Things Done',\n",
       " 'Genres': \"Time management, Self-management (Psychology), Gestion de soi, Budgets temps, Zelfpsychologie, Zeiteinteilung, Tijdmanagement, Selbstmanagement, nyt:paperback-advice=2008-06-08, New York Times bestseller, Administracio n del tiempo, Administración del tiempo, Efficiency, Efficacité, Organisation du travail, Formation, Développement personnel, Développement d'aptitudes, Shi jian, Guan li, Zi wo(xin li xue), Business, handbooks, manuals, etc., Industrial management, Creative ability in business, Psychological Stress, Prevention & control\"}"
      ]
     },
     "execution_count": 50,
     "metadata": {},
     "output_type": "execute_result"
    }
   ],
   "source": [
    "fetch_genre(\"9780143126560\")"
   ]
  },
  {
   "cell_type": "code",
   "execution_count": 51,
   "metadata": {},
   "outputs": [],
   "source": [
    "# Process ISBNs in parallel\n",
    "def fetch_all_genres(isbn_list, max_workers=10):\n",
    "    results = []\n",
    "    with ThreadPoolExecutor(max_workers=max_workers) as executor:\n",
    "        futures = {executor.submit(fetch_genre, isbn): isbn for isbn in isbn_list}\n",
    "        for future in tqdm(as_completed(futures), total=len(isbn_list), desc=\"Fetching Genres\"):\n",
    "            results.append(future.result())\n",
    "    return results"
   ]
  },
  {
   "cell_type": "code",
   "execution_count": 52,
   "metadata": {},
   "outputs": [
    {
     "name": "stderr",
     "output_type": "stream",
     "text": [
      "Fetching Genres:   0%|          | 0/50 [00:00<?, ?it/s]"
     ]
    },
    {
     "name": "stderr",
     "output_type": "stream",
     "text": [
      "Fetching Genres: 100%|██████████| 50/50 [00:05<00:00,  8.83it/s]\n"
     ]
    }
   ],
   "source": [
    "# Run the function\n",
    "results = fetch_all_genres(isbn_list, max_workers=10)"
   ]
  },
  {
   "cell_type": "markdown",
   "metadata": {},
   "source": [
    "#### Save results to CSV"
   ]
  },
  {
   "cell_type": "code",
   "execution_count": 53,
   "metadata": {},
   "outputs": [
    {
     "name": "stdout",
     "output_type": "stream",
     "text": [
      "✅ Data saved to book_genres.csv\n"
     ]
    }
   ],
   "source": [
    "df = pd.DataFrame(results)\n",
    "df.to_csv(\"book_genres.csv\", index=False)\n",
    "\n",
    "print(\"✅ Data saved to book_genres.csv\")"
   ]
  },
  {
   "cell_type": "markdown",
   "metadata": {},
   "source": []
  }
 ],
 "metadata": {
  "kernelspec": {
   "display_name": ".venv",
   "language": "python",
   "name": "python3"
  },
  "language_info": {
   "codemirror_mode": {
    "name": "ipython",
    "version": 3
   },
   "file_extension": ".py",
   "mimetype": "text/x-python",
   "name": "python",
   "nbconvert_exporter": "python",
   "pygments_lexer": "ipython3",
   "version": "3.11.9"
  }
 },
 "nbformat": 4,
 "nbformat_minor": 2
}
