{
 "cells": [
  {
   "cell_type": "markdown",
   "metadata": {},
   "source": [
    "## Connect to Open Library API and fetch book genres \n",
    "- for limited amount of books only (books with highest number of rankings)"
   ]
  },
  {
   "cell_type": "code",
   "execution_count": 10,
   "metadata": {},
   "outputs": [],
   "source": [
    "import requests\n",
    "import pandas as pd\n",
    "from concurrent.futures import ThreadPoolExecutor, as_completed\n",
    "from tqdm import tqdm  # For progress bar"
   ]
  },
  {
   "cell_type": "markdown",
   "metadata": {},
   "source": [
    "Import custom function"
   ]
  },
  {
   "cell_type": "code",
   "execution_count": 11,
   "metadata": {},
   "outputs": [],
   "source": [
    "import sys\n",
    "sys.path.append('../functions/')\n",
    "\n",
    "from fun_api import fetch_genre, fetch_all_genres"
   ]
  },
  {
   "cell_type": "markdown",
   "metadata": {},
   "source": [
    "### Get list of ISBNs"
   ]
  },
  {
   "cell_type": "code",
   "execution_count": 12,
   "metadata": {},
   "outputs": [],
   "source": [
    "# Load ISBNs from a CSV file or list\n",
    "isbn_list = [\"9780143126560\", \"9780062316097\", \"9781451648539\"] "
   ]
  },
  {
   "cell_type": "markdown",
   "metadata": {},
   "source": [
    "### Import list of ISBN"
   ]
  },
  {
   "cell_type": "code",
   "execution_count": 13,
   "metadata": {},
   "outputs": [
    {
     "name": "stdout",
     "output_type": "stream",
     "text": [
      "Number of ISBNs: 322158\n"
     ]
    },
    {
     "data": {
      "text/html": [
       "<div>\n",
       "<style scoped>\n",
       "    .dataframe tbody tr th:only-of-type {\n",
       "        vertical-align: middle;\n",
       "    }\n",
       "\n",
       "    .dataframe tbody tr th {\n",
       "        vertical-align: top;\n",
       "    }\n",
       "\n",
       "    .dataframe thead th {\n",
       "        text-align: right;\n",
       "    }\n",
       "</style>\n",
       "<table border=\"1\" class=\"dataframe\">\n",
       "  <thead>\n",
       "    <tr style=\"text-align: right;\">\n",
       "      <th></th>\n",
       "      <th>ISBN</th>\n",
       "      <th>count_rating</th>\n",
       "    </tr>\n",
       "  </thead>\n",
       "  <tbody>\n",
       "    <tr>\n",
       "      <th>0</th>\n",
       "      <td>971880107</td>\n",
       "      <td>2264</td>\n",
       "    </tr>\n",
       "    <tr>\n",
       "      <th>1</th>\n",
       "      <td>316666343</td>\n",
       "      <td>1164</td>\n",
       "    </tr>\n",
       "    <tr>\n",
       "      <th>2</th>\n",
       "      <td>385504209</td>\n",
       "      <td>813</td>\n",
       "    </tr>\n",
       "    <tr>\n",
       "      <th>3</th>\n",
       "      <td>312195516</td>\n",
       "      <td>668</td>\n",
       "    </tr>\n",
       "    <tr>\n",
       "      <th>4</th>\n",
       "      <td>60928336</td>\n",
       "      <td>662</td>\n",
       "    </tr>\n",
       "  </tbody>\n",
       "</table>\n",
       "</div>"
      ],
      "text/plain": [
       "        ISBN  count_rating\n",
       "0  971880107          2264\n",
       "1  316666343          1164\n",
       "2  385504209           813\n",
       "3  312195516           668\n",
       "4   60928336           662"
      ]
     },
     "execution_count": 13,
     "metadata": {},
     "output_type": "execute_result"
    }
   ],
   "source": [
    "df_ratings = pd.read_csv('../data/ISBN_count_rating.csv')\n",
    "isbn_list = df_ratings['ISBN'].to_list()\n",
    "isbn_list = list(set(isbn_list)) ## Keep only unique ISBNs\n",
    "\n",
    "print(f\"Number of ISBNs: {len(isbn_list)}\")\n",
    "\n",
    "df_ratings.head(5)"
   ]
  },
  {
   "cell_type": "code",
   "execution_count": 14,
   "metadata": {},
   "outputs": [
    {
     "name": "stdout",
     "output_type": "stream",
     "text": [
      "Number of selected ISBNs: 10\n"
     ]
    },
    {
     "data": {
      "text/plain": [
       "['037317196X', '395177111', '1931081514', '006091050X', '140316043']"
      ]
     },
     "execution_count": 14,
     "metadata": {},
     "output_type": "execute_result"
    }
   ],
   "source": [
    "isbn_list_subset = isbn_list[:10] ##\n",
    "print(f\"Number of selected ISBNs: {len(isbn_list_subset)}\")\n",
    "isbn_list_subset[:5]"
   ]
  },
  {
   "cell_type": "markdown",
   "metadata": {},
   "source": [
    "#### Function to fetch book genre"
   ]
  },
  {
   "cell_type": "code",
   "execution_count": 15,
   "metadata": {},
   "outputs": [
    {
     "data": {
      "text/plain": [
       "{'ISBN': '1586601989',\n",
       " 'Title': 'Holy Bible',\n",
       " 'Genres': \"Manuscripts, Latin (Medieval and modern), Glossaries, vocabularies, Early works to 1800, Bible, Religion, Bibles, Biblical Studies - General, Religion / Bible / General, Bible - General, Commentaries, Authorized, Criticism, interpretation, Shorthand, Sacred books, Church of Jesus Christ of Latter-day Saints, BÍBLIA (INTERPRETAÇÃO), Juvenile literature, The Bible, Biblia, Christian life, Study and teaching, English Concordances, Bible, study and teaching, Jews, Antiquities, Apocryphal books (Old Testament), Education, Doctrines, Spiritual life, Religious life, New Testament, Peshitta, English Harmonies, Bible, commentaries, Introductions, Biography, Creation, Biblical teaching, History, Bible, criticism, interpretation, etc., Catholic Truth Society (Great Britain), Church year meditations, Lectionaries, Bible, theology, Bibel, Bijbel, Christianity, Spirituality, Bible. -- Old Testament, Bible. -- New Testament, Teenagers' use, English Bible stories, Bible stories, Bible--Study and teaching--Catholic Church, Catholic youth--Religious life, Catholic youth, Devotional calendars, Christian women, Prayers and devotions, Women -- Prayer-books and devotions -- English, Devotional exercises, Couples, Prayer-books and devotions, Devotional use, Older Christians, Bible, meditations, Older people, prayers and devotions, Meditations, Twelve-step programs, Conduct of life, Prayer books and devotions, Teenagers, Amplified, Men's Bible, Twelve-step programs -- Religious aspects -- Christianity -- Meditations, Bible -- Meditations, Women, Mothers, Sources, Specimens, Bibles - Living, Religious aspects, Teenage girls, Devotional literature, Men, Church group work with men, Study skills, Children, Children's use, Blacks in the Bible, Bibles, english standard version, study, Faith, Theology, Chronology, Bible - Reference Editions, Bible, versions, Bibles, other english translations, study, Bibles, new international version, youth & teen, Bibles, new king james version, youth & teen, Bibles, king james version, study, Bibles, christian standard bible, youth & teen, Spiritual life, christianity, Bibles, other english translations, youth & teen, Bible, study, Commentaires, Methodist Church, Holy Bible, study bible, Bibles, new revised standard version, study, BIBLES / New Revised Standard Version / Study, RELIGION / Biblical Criticism & Interpretation / General, Evidences, authority, Creationism, Bible - Evidences, authority, Bible - Study and teaching, Authority, Christian leadership, Women in the Bible, Juvenile, Bible Study Guide, God, knowableness, Bible, criticism, interpretation, etc., n. t. epistles, Jerusalem, O.T., English Paraphrases, Paraphrases, Religion - Bibles - General, Bible - Stories - Old Testament, Paraphrases, English, Students, History of Biblical events, Children, religious life, In literature, Bible, commentaries, o. t. apocrypha, Characters, Characters and characteristics, Parenting, Moral and ethical aspects, Parents, Geography, Evidence, Apologetics, Missions, Boys, Bible -- Study and teaching, Versiones, Indexes, Teenage boys, Girls, Personal narratives, Pentecostalism, Episcopalians, Earthquakes, Youth, Reference, Deuterocanonieke boeken, Oude Testament, Nieuwe Testament, Bible. O.T. Apocrypha, Apocrypha, Critique, interprétation, Comentarios, Reader Development Collection, Bibles, god's word, text, Abridgements, God, Literal Translations, Literal Translation, Literal Bible, New World, Psalters, collectionID:KellerChallenge, Women Biblical scholars, collectionID:EanesChallenge, Étude et enseignement, Almanachs spirituels, Forecasting, Forecasts, Bible, reading, Reference books, Women, religious life, Religion and theology, Children, juvenile literature, Livres en gros caractères, Éditions de référence, Bible, chronology, Bible, use, Quotations, Citations, Übersetzung, Kommentar, Ouvrages pour la jeunesse, Usage par les enfants, Holy books, Bibles, new revised standard version, new testament & portions, Environmental aspects, Green movement, Environmentalism, Adolescents, Vie religieuse, Doctrinal Theology, Families, Holy Spirit, Saint-Esprit, Enseignement biblique, Spiritual formation, Église catholique, Jeunesse catholique, Paraphrases anglaises, Christian men, Recovery, Old and new testament, Vie chrétienne, Bibles, la biblia de las americas, text, collectionID:bannedbooks, Translations into English, Bible in literature, Bibles, other english translations, text, Bible, study and teaching, outlines, syllabi, etc., Bible, concordances, Large type books, Bible, versions, english, Bibles, new international version, text, Bible, juvenile literature, Women, prayers and devotions, Bibles, new international version, devotional, Bibles, nueva version international, text, Bibles, other english translations, reference, Bibles, king james version, children, Bibles, new revised standard version, text, Bibles, new international reader's version, children, Bibles, general, Bibles, multiple translations, text, Bibles, king james version, text, Bibles, new international reader's version, study, Bible, textbooks, Devotional literature (selections: extracts, etc.), Bibles, new international reader's version, youth & teen, Youth, religious life, Bibles, new international version, children, Devotional calendars, juvenile literature, Bibles, new international version, general, Bible, prophecies, Prophecy, christianity, African americans, religion, God, worship and love, Bibles, new international reader's version, general, Introduction, Bibles, english standard version, general, Bibles, christian standard bible, text, Bible, dictionaries, Bibles, christian standard bible, study, Bibles, la biblia de las americas, general, Bibles, new american standard bible, general, Bibles, christian standard bible, reference, Versions, Revised Standard, Reference editions, Episcopal Church. Joint Commission on Marginal Readings in the Bible, Children's songs, Contemporary christian music, Dakota language, Texts, Dakota (Langue), Textes, English Parallel versions, Apocryphal books\"}"
      ]
     },
     "execution_count": 15,
     "metadata": {},
     "output_type": "execute_result"
    }
   ],
   "source": [
    "fetch_genre(\"1586601989\")"
   ]
  },
  {
   "cell_type": "code",
   "execution_count": 16,
   "metadata": {},
   "outputs": [
    {
     "name": "stderr",
     "output_type": "stream",
     "text": [
      "Fetching Genres: 100%|██████████| 10/10 [00:05<00:00,  1.77it/s]\n"
     ]
    }
   ],
   "source": [
    "# Run the function\n",
    "results = fetch_all_genres(isbn_list_subset, max_workers=10)"
   ]
  },
  {
   "cell_type": "code",
   "execution_count": 17,
   "metadata": {},
   "outputs": [
    {
     "data": {
      "text/html": [
       "<div>\n",
       "<style scoped>\n",
       "    .dataframe tbody tr th:only-of-type {\n",
       "        vertical-align: middle;\n",
       "    }\n",
       "\n",
       "    .dataframe tbody tr th {\n",
       "        vertical-align: top;\n",
       "    }\n",
       "\n",
       "    .dataframe thead th {\n",
       "        text-align: right;\n",
       "    }\n",
       "</style>\n",
       "<table border=\"1\" class=\"dataframe\">\n",
       "  <thead>\n",
       "    <tr style=\"text-align: right;\">\n",
       "      <th></th>\n",
       "      <th>ISBN</th>\n",
       "      <th>Title</th>\n",
       "      <th>Genres</th>\n",
       "    </tr>\n",
       "  </thead>\n",
       "  <tbody>\n",
       "    <tr>\n",
       "      <th>0</th>\n",
       "      <td>033344714X</td>\n",
       "      <td>Chewing-gum Rescue and Other Stories (M Books)</td>\n",
       "      <td>Short stories, Juvenile fiction, Children's fi...</td>\n",
       "    </tr>\n",
       "    <tr>\n",
       "      <th>1</th>\n",
       "      <td>006091050X</td>\n",
       "      <td>I never told anyone</td>\n",
       "      <td>Child sexual abuse, Biography, Victims of crim...</td>\n",
       "    </tr>\n",
       "    <tr>\n",
       "      <th>2</th>\n",
       "      <td>8401423201</td>\n",
       "      <td>Poemas - Miguel Hernandez</td>\n",
       "      <td>Unknown Genre</td>\n",
       "    </tr>\n",
       "    <tr>\n",
       "      <th>3</th>\n",
       "      <td>762721987</td>\n",
       "      <td>Not Found</td>\n",
       "      <td>Not Found</td>\n",
       "    </tr>\n",
       "    <tr>\n",
       "      <th>4</th>\n",
       "      <td>395177111</td>\n",
       "      <td>Not Found</td>\n",
       "      <td>Not Found</td>\n",
       "    </tr>\n",
       "  </tbody>\n",
       "</table>\n",
       "</div>"
      ],
      "text/plain": [
       "         ISBN                                           Title  \\\n",
       "0  033344714X  Chewing-gum Rescue and Other Stories (M Books)   \n",
       "1  006091050X                             I never told anyone   \n",
       "2  8401423201                       Poemas - Miguel Hernandez   \n",
       "3   762721987                                       Not Found   \n",
       "4   395177111                                       Not Found   \n",
       "\n",
       "                                              Genres  \n",
       "0  Short stories, Juvenile fiction, Children's fi...  \n",
       "1  Child sexual abuse, Biography, Victims of crim...  \n",
       "2                                      Unknown Genre  \n",
       "3                                          Not Found  \n",
       "4                                          Not Found  "
      ]
     },
     "execution_count": 17,
     "metadata": {},
     "output_type": "execute_result"
    }
   ],
   "source": [
    "results.head(5)"
   ]
  },
  {
   "cell_type": "code",
   "execution_count": 20,
   "metadata": {},
   "outputs": [
    {
     "name": "stdout",
     "output_type": "stream",
     "text": [
      "Number of ISBNs with Genre: 5\n"
     ]
    }
   ],
   "source": [
    "### Filter where Genre is not 'Not Found'\n",
    "results = results[results['Genres'] != 'Not Found']\n",
    "\n",
    "print(f\"Number of ISBNs with Genre: {len(results)}\")"
   ]
  },
  {
   "cell_type": "markdown",
   "metadata": {},
   "source": [
    "#### Save results to CSV"
   ]
  },
  {
   "cell_type": "code",
   "execution_count": 18,
   "metadata": {},
   "outputs": [
    {
     "name": "stdout",
     "output_type": "stream",
     "text": [
      "✅ Data saved to book_genres.csv\n"
     ]
    }
   ],
   "source": [
    "results.to_csv(\"interm_outputs/book_genres_API.csv\", index=False)\n",
    "\n",
    "print(\"✅ Data saved to book_genres.csv\")"
   ]
  },
  {
   "cell_type": "markdown",
   "metadata": {},
   "source": []
  }
 ],
 "metadata": {
  "kernelspec": {
   "display_name": ".venv",
   "language": "python",
   "name": "python3"
  },
  "language_info": {
   "codemirror_mode": {
    "name": "ipython",
    "version": 3
   },
   "file_extension": ".py",
   "mimetype": "text/x-python",
   "name": "python",
   "nbconvert_exporter": "python",
   "pygments_lexer": "ipython3",
   "version": "3.11.9"
  }
 },
 "nbformat": 4,
 "nbformat_minor": 2
}
