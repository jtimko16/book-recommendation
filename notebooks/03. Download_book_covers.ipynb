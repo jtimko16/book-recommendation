{
 "cells": [
  {
   "cell_type": "markdown",
   "metadata": {},
   "source": [
    "### Download images"
   ]
  },
  {
   "cell_type": "code",
   "execution_count": 29,
   "metadata": {},
   "outputs": [],
   "source": [
    "import os\n",
    "import requests\n",
    "from PIL import Image\n",
    "from io import BytesIO\n",
    "import pandas as pd\n"
   ]
  },
  {
   "cell_type": "markdown",
   "metadata": {},
   "source": [
    "#### Import list of URLs"
   ]
  },
  {
   "cell_type": "code",
   "execution_count": 30,
   "metadata": {},
   "outputs": [
    {
     "data": {
      "text/html": [
       "<div>\n",
       "<style scoped>\n",
       "    .dataframe tbody tr th:only-of-type {\n",
       "        vertical-align: middle;\n",
       "    }\n",
       "\n",
       "    .dataframe tbody tr th {\n",
       "        vertical-align: top;\n",
       "    }\n",
       "\n",
       "    .dataframe thead th {\n",
       "        text-align: right;\n",
       "    }\n",
       "</style>\n",
       "<table border=\"1\" class=\"dataframe\">\n",
       "  <thead>\n",
       "    <tr style=\"text-align: right;\">\n",
       "      <th></th>\n",
       "      <th>ISBN</th>\n",
       "      <th>Title</th>\n",
       "      <th>Genre_category</th>\n",
       "      <th>Genres_list</th>\n",
       "    </tr>\n",
       "  </thead>\n",
       "  <tbody>\n",
       "    <tr>\n",
       "      <th>0</th>\n",
       "      <td>1841193429</td>\n",
       "      <td>Looking for Lovedu</td>\n",
       "      <td>Fiction</td>\n",
       "      <td>['africa', 'description and travel', 'fiction'...</td>\n",
       "    </tr>\n",
       "    <tr>\n",
       "      <th>1</th>\n",
       "      <td>059045174X</td>\n",
       "      <td>The Field Beyond the Outfield</td>\n",
       "      <td>Fiction</td>\n",
       "      <td>[\"children's fiction\", 'baseball', 'fiction']</td>\n",
       "    </tr>\n",
       "    <tr>\n",
       "      <th>2</th>\n",
       "      <td>1840243503</td>\n",
       "      <td>Brazil: Life, Blood, Soul</td>\n",
       "      <td>Fiction</td>\n",
       "      <td>['history', 'nonfiction', 'travel', 'descripti...</td>\n",
       "    </tr>\n",
       "    <tr>\n",
       "      <th>3</th>\n",
       "      <td>1884956173</td>\n",
       "      <td>Damn! Why didn't I write that?</td>\n",
       "      <td>Other</td>\n",
       "      <td>['authorship', 'marketing', 'authorship', 'mar...</td>\n",
       "    </tr>\n",
       "    <tr>\n",
       "      <th>4</th>\n",
       "      <td>067973385X</td>\n",
       "      <td>Exile and the kingdom</td>\n",
       "      <td>Fiction</td>\n",
       "      <td>['french language materials', 'foreign languag...</td>\n",
       "    </tr>\n",
       "  </tbody>\n",
       "</table>\n",
       "</div>"
      ],
      "text/plain": [
       "         ISBN                           Title Genre_category  \\\n",
       "0  1841193429              Looking for Lovedu        Fiction   \n",
       "1  059045174X   The Field Beyond the Outfield        Fiction   \n",
       "2  1840243503       Brazil: Life, Blood, Soul        Fiction   \n",
       "3  1884956173  Damn! Why didn't I write that?          Other   \n",
       "4  067973385X           Exile and the kingdom        Fiction   \n",
       "\n",
       "                                         Genres_list  \n",
       "0  ['africa', 'description and travel', 'fiction'...  \n",
       "1      [\"children's fiction\", 'baseball', 'fiction']  \n",
       "2  ['history', 'nonfiction', 'travel', 'descripti...  \n",
       "3  ['authorship', 'marketing', 'authorship', 'mar...  \n",
       "4  ['french language materials', 'foreign languag...  "
      ]
     },
     "execution_count": 30,
     "metadata": {},
     "output_type": "execute_result"
    }
   ],
   "source": [
    "books = pd.read_csv('interm_outputs/book_genres_clean.csv')\n",
    "books.head(5)\n"
   ]
  },
  {
   "cell_type": "markdown",
   "metadata": {},
   "source": [
    "Loop arond rows of dataframe"
   ]
  },
  {
   "cell_type": "code",
   "execution_count": 31,
   "metadata": {},
   "outputs": [],
   "source": [
    "isbn_list = books['ISBN'].tolist()"
   ]
  },
  {
   "cell_type": "code",
   "execution_count": null,
   "metadata": {},
   "outputs": [
    {
     "name": "stdout",
     "output_type": "stream",
     "text": [
      "✅ Saved: 1841193429.jpg\n"
     ]
    }
   ],
   "source": [
    "save_folder = \"../data/book_covers\"\n",
    "os.makedirs(save_folder, exist_ok=True)\n",
    "\n",
    "# Function to fetch and save images\n",
    "def fetch_and_save_image(isbn):\n",
    "    url = f\"https://covers.openlibrary.org/b/isbn/{isbn}-L.jpg\"\n",
    "    response = requests.get(url, stream=True)\n",
    "    \n",
    "    if response.status_code == 200:\n",
    "        try:\n",
    "            img = Image.open(BytesIO(response.content))\n",
    "            img_path = os.path.join(save_folder, f\"{isbn}.jpg\")\n",
    "            img.save(img_path)\n",
    "            print(f\"✅ Saved: {isbn}.jpg\")\n",
    "        except Exception as e:\n",
    "            print(f\"❌ Error processing {isbn}: {e}\")\n",
    "    else:\n",
    "        print(f\"🚫 No cover found for {isbn}\")\n",
    "\n",
    "# Loop through ISBNs and download images\n",
    "for isbn in isbn_list:\n",
    "    fetch_and_save_image(isbn)"
   ]
  },
  {
   "cell_type": "code",
   "execution_count": 19,
   "metadata": {},
   "outputs": [
    {
     "name": "stdout",
     "output_type": "stream",
     "text": [
      "URL did not return an image. Content-Type: text/html\n"
     ]
    }
   ],
   "source": [
    "url = \"http://images.amazon.com/images/P/0195153448.01.LZZZZZZZ.jpg\"\n",
    "response = requests.get(url)\n",
    "\n",
    "# Check content type\n",
    "content_type = response.headers.get(\"Content-Type\", \"\")\n",
    "\n",
    "if \"image\" in content_type:  # Ensure it's an image\n",
    "    img = Image.open(BytesIO(response.content))\n",
    "    img.show()\n",
    "else:\n",
    "    print(\"URL did not return an image. Content-Type:\", content_type)"
   ]
  },
  {
   "cell_type": "code",
   "execution_count": null,
   "metadata": {},
   "outputs": [],
   "source": []
  }
 ],
 "metadata": {
  "kernelspec": {
   "display_name": ".venv",
   "language": "python",
   "name": "python3"
  },
  "language_info": {
   "codemirror_mode": {
    "name": "ipython",
    "version": 3
   },
   "file_extension": ".py",
   "mimetype": "text/x-python",
   "name": "python",
   "nbconvert_exporter": "python",
   "pygments_lexer": "ipython3",
   "version": "3.11.9"
  }
 },
 "nbformat": 4,
 "nbformat_minor": 2
}
