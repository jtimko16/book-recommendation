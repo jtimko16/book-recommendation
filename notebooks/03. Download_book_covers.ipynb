{
 "cells": [
  {
   "cell_type": "markdown",
   "metadata": {},
   "source": [
    "### Download images"
   ]
  },
  {
   "cell_type": "code",
   "execution_count": 47,
   "metadata": {},
   "outputs": [],
   "source": [
    "import os\n",
    "import requests\n",
    "from PIL import Image\n",
    "from io import BytesIO\n",
    "import pandas as pd\n"
   ]
  },
  {
   "cell_type": "markdown",
   "metadata": {},
   "source": [
    "#### Import list of URLs"
   ]
  },
  {
   "cell_type": "code",
   "execution_count": 48,
   "metadata": {},
   "outputs": [
    {
     "data": {
      "text/html": [
       "<div>\n",
       "<style scoped>\n",
       "    .dataframe tbody tr th:only-of-type {\n",
       "        vertical-align: middle;\n",
       "    }\n",
       "\n",
       "    .dataframe tbody tr th {\n",
       "        vertical-align: top;\n",
       "    }\n",
       "\n",
       "    .dataframe thead th {\n",
       "        text-align: right;\n",
       "    }\n",
       "</style>\n",
       "<table border=\"1\" class=\"dataframe\">\n",
       "  <thead>\n",
       "    <tr style=\"text-align: right;\">\n",
       "      <th></th>\n",
       "      <th>ISBN</th>\n",
       "      <th>Title</th>\n",
       "      <th>Genre_category</th>\n",
       "      <th>Genres_list</th>\n",
       "    </tr>\n",
       "  </thead>\n",
       "  <tbody>\n",
       "    <tr>\n",
       "      <th>0</th>\n",
       "      <td>1841193429</td>\n",
       "      <td>Looking for Lovedu</td>\n",
       "      <td>Fiction</td>\n",
       "      <td>['africa', 'description and travel', 'general'...</td>\n",
       "    </tr>\n",
       "    <tr>\n",
       "      <th>1</th>\n",
       "      <td>059045174X</td>\n",
       "      <td>The Field Beyond the Outfield</td>\n",
       "      <td>Fiction</td>\n",
       "      <td>['baseball', \"children's fiction\", 'fiction']</td>\n",
       "    </tr>\n",
       "    <tr>\n",
       "      <th>2</th>\n",
       "      <td>1840243503</td>\n",
       "      <td>Brazil: Life, Blood, Soul</td>\n",
       "      <td>Fiction</td>\n",
       "      <td>['description and travel', 'historical', 'nonf...</td>\n",
       "    </tr>\n",
       "    <tr>\n",
       "      <th>3</th>\n",
       "      <td>1884956173</td>\n",
       "      <td>Damn! Why didn't I write that?</td>\n",
       "      <td>Other</td>\n",
       "      <td>['marketing', 'authorship']</td>\n",
       "    </tr>\n",
       "    <tr>\n",
       "      <th>4</th>\n",
       "      <td>067973385X</td>\n",
       "      <td>Exile and the kingdom</td>\n",
       "      <td>Fiction</td>\n",
       "      <td>['french', 'cuentos franceses', 'translations ...</td>\n",
       "    </tr>\n",
       "  </tbody>\n",
       "</table>\n",
       "</div>"
      ],
      "text/plain": [
       "         ISBN                           Title Genre_category  \\\n",
       "0  1841193429              Looking for Lovedu        Fiction   \n",
       "1  059045174X   The Field Beyond the Outfield        Fiction   \n",
       "2  1840243503       Brazil: Life, Blood, Soul        Fiction   \n",
       "3  1884956173  Damn! Why didn't I write that?          Other   \n",
       "4  067973385X           Exile and the kingdom        Fiction   \n",
       "\n",
       "                                         Genres_list  \n",
       "0  ['africa', 'description and travel', 'general'...  \n",
       "1      ['baseball', \"children's fiction\", 'fiction']  \n",
       "2  ['description and travel', 'historical', 'nonf...  \n",
       "3                        ['marketing', 'authorship']  \n",
       "4  ['french', 'cuentos franceses', 'translations ...  "
      ]
     },
     "execution_count": 48,
     "metadata": {},
     "output_type": "execute_result"
    }
   ],
   "source": [
    "books = pd.read_csv('interm_outputs/book_genres_clean.csv')\n",
    "books.head(5)\n"
   ]
  },
  {
   "cell_type": "markdown",
   "metadata": {},
   "source": [
    "Loop arond rows of dataframe"
   ]
  },
  {
   "cell_type": "code",
   "execution_count": 49,
   "metadata": {},
   "outputs": [],
   "source": [
    "isbn_list = books['ISBN'].tolist()"
   ]
  },
  {
   "cell_type": "code",
   "execution_count": 50,
   "metadata": {},
   "outputs": [],
   "source": [
    "save_folder = \"interm_outputs/book_covers\"\n",
    "os.makedirs(save_folder, exist_ok=True)\n",
    "\n",
    "failed_isbns = []\n",
    "\n",
    "# Function to fetch and save images\n",
    "def fetch_and_save_image(isbn):\n",
    "    img_path = os.path.join(save_folder, f\"{isbn}.jpg\")\n",
    "\n",
    "    # Check if the image already exists\n",
    "    if os.path.exists(img_path):\n",
    "        return  # Skip the download if the image exists\n",
    "\n",
    "    # If the image does not exist, fetch and save it\n",
    "    url = f\"https://covers.openlibrary.org/b/isbn/{isbn}-M.jpg\"\n",
    "    response = requests.get(url, stream=True)\n",
    "    \n",
    "    if response.status_code == 200:\n",
    "        try:\n",
    "            img = Image.open(BytesIO(response.content))\n",
    "            # Convert the image to RGB before saving (if it's in P mode)\n",
    "\n",
    "            img.save(img_path)\n",
    "            print(f\"✅ Saved: {isbn}.jpg\")\n",
    "        except Exception as e:\n",
    "            print(f\"❌ Error processing {isbn}: {e}\")\n",
    "            failed_isbns.append(isbn)\n",
    "    else:\n",
    "        print(f\"🚫 No cover found for {isbn}\")\n"
   ]
  },
  {
   "cell_type": "code",
   "execution_count": null,
   "metadata": {},
   "outputs": [
    {
     "name": "stdout",
     "output_type": "stream",
     "text": [
      "❌ Error processing 059045174X: cannot write mode P as JPEG\n"
     ]
    }
   ],
   "source": [
    "# Loop through ISBNs and download images\n",
    "for isbn in isbn_list:\n",
    "    fetch_and_save_image(isbn)"
   ]
  },
  {
   "cell_type": "code",
   "execution_count": null,
   "metadata": {},
   "outputs": [],
   "source": [
    "print(failed_isbns)"
   ]
  },
  {
   "cell_type": "markdown",
   "metadata": {},
   "source": []
  },
  {
   "cell_type": "code",
   "execution_count": null,
   "metadata": {},
   "outputs": [],
   "source": []
  }
 ],
 "metadata": {
  "kernelspec": {
   "display_name": ".venv",
   "language": "python",
   "name": "python3"
  },
  "language_info": {
   "codemirror_mode": {
    "name": "ipython",
    "version": 3
   },
   "file_extension": ".py",
   "mimetype": "text/x-python",
   "name": "python",
   "nbconvert_exporter": "python",
   "pygments_lexer": "ipython3",
   "version": "3.11.9"
  }
 },
 "nbformat": 4,
 "nbformat_minor": 2
}
