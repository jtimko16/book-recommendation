{
 "cells": [
  {
   "cell_type": "markdown",
   "metadata": {},
   "source": [
    "### Download images"
   ]
  },
  {
   "cell_type": "code",
   "execution_count": 29,
   "metadata": {},
   "outputs": [],
   "source": [
    "import os\n",
    "import requests\n",
    "from PIL import Image\n",
    "from io import BytesIO\n",
    "import pandas as pd\n"
   ]
  },
  {
   "cell_type": "markdown",
   "metadata": {},
   "source": [
    "#### Import list of URLs"
   ]
  },
  {
   "cell_type": "code",
   "execution_count": 30,
   "metadata": {},
   "outputs": [
    {
     "data": {
      "text/html": [
       "<div>\n",
       "<style scoped>\n",
       "    .dataframe tbody tr th:only-of-type {\n",
       "        vertical-align: middle;\n",
       "    }\n",
       "\n",
       "    .dataframe tbody tr th {\n",
       "        vertical-align: top;\n",
       "    }\n",
       "\n",
       "    .dataframe thead th {\n",
       "        text-align: right;\n",
       "    }\n",
       "</style>\n",
       "<table border=\"1\" class=\"dataframe\">\n",
       "  <thead>\n",
       "    <tr style=\"text-align: right;\">\n",
       "      <th></th>\n",
       "      <th>ISBN</th>\n",
       "      <th>Title</th>\n",
       "      <th>Genre_category</th>\n",
       "      <th>Genres_list</th>\n",
       "    </tr>\n",
       "  </thead>\n",
       "  <tbody>\n",
       "    <tr>\n",
       "      <th>0</th>\n",
       "      <td>1841193429</td>\n",
       "      <td>Looking for Lovedu</td>\n",
       "      <td>Fiction</td>\n",
       "      <td>['africa', 'description and travel', 'fiction'...</td>\n",
       "    </tr>\n",
       "    <tr>\n",
       "      <th>1</th>\n",
       "      <td>059045174X</td>\n",
       "      <td>The Field Beyond the Outfield</td>\n",
       "      <td>Fiction</td>\n",
       "      <td>[\"children's fiction\", 'baseball', 'fiction']</td>\n",
       "    </tr>\n",
       "    <tr>\n",
       "      <th>2</th>\n",
       "      <td>1840243503</td>\n",
       "      <td>Brazil: Life, Blood, Soul</td>\n",
       "      <td>Fiction</td>\n",
       "      <td>['history', 'nonfiction', 'travel', 'descripti...</td>\n",
       "    </tr>\n",
       "    <tr>\n",
       "      <th>3</th>\n",
       "      <td>1884956173</td>\n",
       "      <td>Damn! Why didn't I write that?</td>\n",
       "      <td>Other</td>\n",
       "      <td>['authorship', 'marketing', 'authorship', 'mar...</td>\n",
       "    </tr>\n",
       "    <tr>\n",
       "      <th>4</th>\n",
       "      <td>067973385X</td>\n",
       "      <td>Exile and the kingdom</td>\n",
       "      <td>Fiction</td>\n",
       "      <td>['french language materials', 'foreign languag...</td>\n",
       "    </tr>\n",
       "  </tbody>\n",
       "</table>\n",
       "</div>"
      ],
      "text/plain": [
       "         ISBN                           Title Genre_category  \\\n",
       "0  1841193429              Looking for Lovedu        Fiction   \n",
       "1  059045174X   The Field Beyond the Outfield        Fiction   \n",
       "2  1840243503       Brazil: Life, Blood, Soul        Fiction   \n",
       "3  1884956173  Damn! Why didn't I write that?          Other   \n",
       "4  067973385X           Exile and the kingdom        Fiction   \n",
       "\n",
       "                                         Genres_list  \n",
       "0  ['africa', 'description and travel', 'fiction'...  \n",
       "1      [\"children's fiction\", 'baseball', 'fiction']  \n",
       "2  ['history', 'nonfiction', 'travel', 'descripti...  \n",
       "3  ['authorship', 'marketing', 'authorship', 'mar...  \n",
       "4  ['french language materials', 'foreign languag...  "
      ]
     },
     "execution_count": 30,
     "metadata": {},
     "output_type": "execute_result"
    }
   ],
   "source": [
    "books = pd.read_csv('interm_outputs/book_genres_clean.csv')\n",
    "books.head(5)\n"
   ]
  },
  {
   "cell_type": "markdown",
   "metadata": {},
   "source": [
    "Loop arond rows of dataframe"
   ]
  },
  {
   "cell_type": "code",
   "execution_count": 31,
   "metadata": {},
   "outputs": [],
   "source": [
    "isbn_list = books['ISBN'].tolist()"
   ]
  },
  {
   "cell_type": "code",
   "execution_count": 33,
   "metadata": {},
   "outputs": [
    {
     "name": "stdout",
     "output_type": "stream",
     "text": [
      "✅ Saved: 1841193429.jpg\n",
      "❌ Error processing 059045174X: cannot write mode P as JPEG\n",
      "✅ Saved: 1840243503.jpg\n",
      "✅ Saved: 1884956173.jpg\n",
      "✅ Saved: 067973385X.jpg\n",
      "❌ Error processing 2841721175: cannot write mode P as JPEG\n",
      "✅ Saved: 2290316547.jpg\n",
      "🚫 No cover found for 156156849X\n",
      "🚫 No cover found for 096156511X\n",
      "🚫 No cover found for 1855381052\n",
      "🚫 No cover found for 1573228184\n",
      "🚫 No cover found for 038078145X\n",
      "✅ Saved: 1551663155.jpg\n",
      "✅ Saved: 155773917X.jpg\n",
      "✅ Saved: 1568846533.jpg\n",
      "✅ Saved: 031287717X.jpg\n",
      "✅ Saved: 1560545275.jpg\n",
      "✅ Saved: 1858285089.jpg\n",
      "❌ Error processing 1559716746: cannot write mode P as JPEG\n",
      "❌ Error processing 1854712551: cannot write mode P as JPEG\n",
      "✅ Saved: 1857230337.jpg\n",
      "❌ Error processing 185549860X: cannot write mode P as JPEG\n",
      "✅ Saved: 1579121055.jpg\n",
      "✅ Saved: 1556521901.jpg\n",
      "✅ Saved: 156179600X.jpg\n",
      "✅ Saved: 1857237889.jpg\n",
      "✅ Saved: 067942069X.jpg\n",
      "❌ Error processing 349926448X: cannot write mode P as JPEG\n",
      "❌ Error processing 038533494X: cannot write mode P as JPEG\n",
      "✅ Saved: 155204145X.jpg\n",
      "✅ Saved: 1558745262.jpg\n",
      "✅ Saved: 050552161X.jpg\n",
      "✅ Saved: 1570629331.jpg\n",
      "✅ Saved: 1556705573.jpg\n",
      "✅ Saved: 037550298X.jpg\n",
      "✅ Saved: 8874260008.jpg\n",
      "✅ Saved: 156565336X.jpg\n",
      "✅ Saved: 1561793477.jpg\n",
      "✅ Saved: 044022554X.jpg\n",
      "✅ Saved: 1852605898.jpg\n",
      "❌ Error processing 088001444X: cannot write mode P as JPEG\n",
      "✅ Saved: 1565122585.jpg\n",
      "✅ Saved: 3895082570.jpg\n",
      "✅ Saved: 074724944X.jpg\n",
      "❌ Error processing 039923568X: cannot write mode P as JPEG\n",
      "✅ Saved: 055380300X.jpg\n",
      "✅ Saved: 1400031001.jpg\n",
      "✅ Saved: 042509586X.jpg\n",
      "❌ Error processing 1557484074: cannot write mode P as JPEG\n",
      "✅ Saved: 190398517X.jpg\n",
      "✅ Saved: 2879392292.jpg\n",
      "✅ Saved: 3442162637.jpg\n",
      "✅ Saved: 1859845835.jpg\n",
      "✅ Saved: 1887166513.jpg\n",
      "✅ Saved: 1551664283.jpg\n",
      "🚫 No cover found for 1571458506\n",
      "✅ Saved: 3453054083.jpg\n",
      "🚫 No cover found for 1569472408\n",
      "🚫 No cover found for 8845206475\n",
      "✅ Saved: 3821808586.jpg\n",
      "❌ Error processing 042514609X: cannot write mode P as JPEG\n",
      "✅ Saved: 1580680038.jpg\n",
      "✅ Saved: 014009203X.jpg\n",
      "✅ Saved: 1853267767.jpg\n",
      "✅ Saved: 8479017694.jpg\n",
      "✅ Saved: 082176652X.jpg\n",
      "✅ Saved: 1575668092.jpg\n",
      "✅ Saved: 8472237850.jpg\n",
      "✅ Saved: 1931561516.jpg\n",
      "❌ Error processing 1570824622: cannot write mode P as JPEG\n",
      "✅ Saved: 080079317X.jpg\n",
      "✅ Saved: 030737002X.jpg\n",
      "✅ Saved: 1551669285.jpg\n",
      "✅ Saved: 1558611541.jpg\n",
      "✅ Saved: 1565120140.jpg\n",
      "✅ Saved: 000651250X.jpg\n",
      "✅ Saved: 1580910998.jpg\n",
      "✅ Saved: 1853913561.jpg\n",
      "✅ Saved: 074325547X.jpg\n",
      "✅ Saved: 188895275X.jpg\n",
      "✅ Saved: 1881273911.jpg\n",
      "✅ Saved: 044150440X.jpg\n",
      "✅ Saved: 028563450X.jpg\n",
      "❌ Error processing 3923880642: cannot write mode P as JPEG\n",
      "✅ Saved: 3462027255.jpg\n",
      "✅ Saved: 1551664631.jpg\n"
     ]
    },
    {
     "ename": "",
     "evalue": "",
     "output_type": "error",
     "traceback": [
      "\u001b[1;31mCannot execute code, session has been disposed. Please try restarting the Kernel."
     ]
    },
    {
     "ename": "",
     "evalue": "",
     "output_type": "error",
     "traceback": [
      "\u001b[1;31mCannot execute code, session has been disposed. Please try restarting the Kernel. \n",
      "\u001b[1;31mView Jupyter <a href='command:jupyter.viewOutput'>log</a> for further details."
     ]
    }
   ],
   "source": [
    "save_folder = \"../data/book_covers\"\n",
    "os.makedirs(save_folder, exist_ok=True)\n",
    "\n",
    "# Function to fetch and save images\n",
    "def fetch_and_save_image(isbn):\n",
    "    url = f\"https://covers.openlibrary.org/b/isbn/{isbn}-M.jpg\"\n",
    "    response = requests.get(url, stream=True)\n",
    "    \n",
    "    if response.status_code == 200:\n",
    "        try:\n",
    "            img = Image.open(BytesIO(response.content))\n",
    "            img_path = os.path.join(save_folder, f\"{isbn}.jpg\")\n",
    "            img.save(img_path)\n",
    "            print(f\"✅ Saved: {isbn}.jpg\")\n",
    "        except Exception as e:\n",
    "            print(f\"❌ Error processing {isbn}: {e}\")\n",
    "    else:\n",
    "        print(f\"🚫 No cover found for {isbn}\")\n",
    "\n",
    "# Loop through ISBNs and download images\n",
    "for isbn in isbn_list:\n",
    "    fetch_and_save_image(isbn)"
   ]
  },
  {
   "cell_type": "code",
   "execution_count": 19,
   "metadata": {},
   "outputs": [
    {
     "name": "stdout",
     "output_type": "stream",
     "text": [
      "URL did not return an image. Content-Type: text/html\n"
     ]
    }
   ],
   "source": [
    "url = \"http://images.amazon.com/images/P/0195153448.01.LZZZZZZZ.jpg\"\n",
    "response = requests.get(url)\n",
    "\n",
    "# Check content type\n",
    "content_type = response.headers.get(\"Content-Type\", \"\")\n",
    "\n",
    "if \"image\" in content_type:  # Ensure it's an image\n",
    "    img = Image.open(BytesIO(response.content))\n",
    "    img.show()\n",
    "else:\n",
    "    print(\"URL did not return an image. Content-Type:\", content_type)"
   ]
  },
  {
   "cell_type": "code",
   "execution_count": null,
   "metadata": {},
   "outputs": [],
   "source": []
  }
 ],
 "metadata": {
  "kernelspec": {
   "display_name": ".venv",
   "language": "python",
   "name": "python3"
  },
  "language_info": {
   "codemirror_mode": {
    "name": "ipython",
    "version": 3
   },
   "file_extension": ".py",
   "mimetype": "text/x-python",
   "name": "python",
   "nbconvert_exporter": "python",
   "pygments_lexer": "ipython3",
   "version": "3.11.9"
  }
 },
 "nbformat": 4,
 "nbformat_minor": 2
}
