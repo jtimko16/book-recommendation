{
 "cells": [
  {
   "cell_type": "markdown",
   "metadata": {},
   "source": [
    "### Baseline model for predicting reccomended book"
   ]
  },
  {
   "cell_type": "code",
   "execution_count": 90,
   "metadata": {},
   "outputs": [],
   "source": [
    "import pandas as pd\n",
    "import numpy as np\n",
    "import xgboost as xgb\n",
    "from sklearn.model_selection import train_test_split\n",
    "from imblearn.over_sampling import SMOTE\n"
   ]
  },
  {
   "cell_type": "markdown",
   "metadata": {},
   "source": [
    "### Import dataset, split into train/val/test"
   ]
  },
  {
   "cell_type": "code",
   "execution_count": 91,
   "metadata": {},
   "outputs": [
    {
     "data": {
      "text/html": [
       "<div>\n",
       "<style scoped>\n",
       "    .dataframe tbody tr th:only-of-type {\n",
       "        vertical-align: middle;\n",
       "    }\n",
       "\n",
       "    .dataframe tbody tr th {\n",
       "        vertical-align: top;\n",
       "    }\n",
       "\n",
       "    .dataframe thead th {\n",
       "        text-align: right;\n",
       "    }\n",
       "</style>\n",
       "<table border=\"1\" class=\"dataframe\">\n",
       "  <thead>\n",
       "    <tr style=\"text-align: right;\">\n",
       "      <th></th>\n",
       "      <th>User-ID</th>\n",
       "      <th>Age</th>\n",
       "      <th>City</th>\n",
       "      <th>Region/State</th>\n",
       "      <th>Country</th>\n",
       "      <th>Age_Missing</th>\n",
       "      <th>ISBN</th>\n",
       "      <th>Book-Rating</th>\n",
       "      <th>Rating_Categ</th>\n",
       "      <th>Book-Title</th>\n",
       "      <th>Book-Author</th>\n",
       "      <th>Year-Of-Publication</th>\n",
       "      <th>Publisher</th>\n",
       "    </tr>\n",
       "  </thead>\n",
       "  <tbody>\n",
       "    <tr>\n",
       "      <th>0</th>\n",
       "      <td>2</td>\n",
       "      <td>18.0</td>\n",
       "      <td>stockton</td>\n",
       "      <td>california</td>\n",
       "      <td>usa</td>\n",
       "      <td>0</td>\n",
       "      <td>0195153448</td>\n",
       "      <td>0</td>\n",
       "      <td>Not rated</td>\n",
       "      <td>Classical Mythology</td>\n",
       "      <td>Mark P. O. Morford</td>\n",
       "      <td>2002.0</td>\n",
       "      <td>Oxford University Press</td>\n",
       "    </tr>\n",
       "    <tr>\n",
       "      <th>1</th>\n",
       "      <td>7</td>\n",
       "      <td>-1.0</td>\n",
       "      <td>washington</td>\n",
       "      <td>dc</td>\n",
       "      <td>usa</td>\n",
       "      <td>1</td>\n",
       "      <td>034542252</td>\n",
       "      <td>0</td>\n",
       "      <td>Not rated</td>\n",
       "      <td>NaN</td>\n",
       "      <td>NaN</td>\n",
       "      <td>NaN</td>\n",
       "      <td>NaN</td>\n",
       "    </tr>\n",
       "    <tr>\n",
       "      <th>2</th>\n",
       "      <td>8</td>\n",
       "      <td>-1.0</td>\n",
       "      <td>timmins</td>\n",
       "      <td>ontario</td>\n",
       "      <td>canada</td>\n",
       "      <td>1</td>\n",
       "      <td>0002005018</td>\n",
       "      <td>5</td>\n",
       "      <td>Avarege (4-5)</td>\n",
       "      <td>Clara Callan</td>\n",
       "      <td>Richard Bruce Wright</td>\n",
       "      <td>2001.0</td>\n",
       "      <td>HarperFlamingo Canada</td>\n",
       "    </tr>\n",
       "    <tr>\n",
       "      <th>3</th>\n",
       "      <td>8</td>\n",
       "      <td>-1.0</td>\n",
       "      <td>timmins</td>\n",
       "      <td>ontario</td>\n",
       "      <td>canada</td>\n",
       "      <td>1</td>\n",
       "      <td>0060973129</td>\n",
       "      <td>0</td>\n",
       "      <td>Not rated</td>\n",
       "      <td>Decision in Normandy</td>\n",
       "      <td>Carlo D'Este</td>\n",
       "      <td>1991.0</td>\n",
       "      <td>HarperPerennial</td>\n",
       "    </tr>\n",
       "    <tr>\n",
       "      <th>4</th>\n",
       "      <td>8</td>\n",
       "      <td>-1.0</td>\n",
       "      <td>timmins</td>\n",
       "      <td>ontario</td>\n",
       "      <td>canada</td>\n",
       "      <td>1</td>\n",
       "      <td>0374157065</td>\n",
       "      <td>0</td>\n",
       "      <td>Not rated</td>\n",
       "      <td>Flu: The Story of the Great Influenza Pandemic...</td>\n",
       "      <td>Gina Bari Kolata</td>\n",
       "      <td>1999.0</td>\n",
       "      <td>Farrar Straus Giroux</td>\n",
       "    </tr>\n",
       "  </tbody>\n",
       "</table>\n",
       "</div>"
      ],
      "text/plain": [
       "   User-ID   Age        City Region/State Country  Age_Missing        ISBN  \\\n",
       "0        2  18.0    stockton   california     usa            0  0195153448   \n",
       "1        7  -1.0  washington           dc     usa            1   034542252   \n",
       "2        8  -1.0     timmins      ontario  canada            1  0002005018   \n",
       "3        8  -1.0     timmins      ontario  canada            1  0060973129   \n",
       "4        8  -1.0     timmins      ontario  canada            1  0374157065   \n",
       "\n",
       "   Book-Rating   Rating_Categ  \\\n",
       "0            0      Not rated   \n",
       "1            0      Not rated   \n",
       "2            5  Avarege (4-5)   \n",
       "3            0      Not rated   \n",
       "4            0      Not rated   \n",
       "\n",
       "                                          Book-Title           Book-Author  \\\n",
       "0                                Classical Mythology    Mark P. O. Morford   \n",
       "1                                                NaN                   NaN   \n",
       "2                                       Clara Callan  Richard Bruce Wright   \n",
       "3                               Decision in Normandy          Carlo D'Este   \n",
       "4  Flu: The Story of the Great Influenza Pandemic...      Gina Bari Kolata   \n",
       "\n",
       "   Year-Of-Publication                Publisher  \n",
       "0               2002.0  Oxford University Press  \n",
       "1                  NaN                      NaN  \n",
       "2               2001.0    HarperFlamingo Canada  \n",
       "3               1991.0          HarperPerennial  \n",
       "4               1999.0     Farrar Straus Giroux  "
      ]
     },
     "execution_count": 91,
     "metadata": {},
     "output_type": "execute_result"
    }
   ],
   "source": [
    "df = pd.read_csv('model_data/model_data_wo_eXtern.csv')\n",
    "\n",
    "df.head(5)"
   ]
  },
  {
   "cell_type": "markdown",
   "metadata": {},
   "source": [
    "### Remove not rated"
   ]
  },
  {
   "cell_type": "code",
   "execution_count": 92,
   "metadata": {},
   "outputs": [
    {
     "data": {
      "text/plain": [
       "Rating_Categ\n",
       "Not rated           716109\n",
       "Excellent (8-10)    249887\n",
       "Good (6-7)          113381\n",
       "Avarege (4-5)        59878\n",
       "Bad (1-3)            10525\n",
       "Name: count, dtype: int64"
      ]
     },
     "execution_count": 92,
     "metadata": {},
     "output_type": "execute_result"
    }
   ],
   "source": [
    "### Unique values and counts from rating_categ\n",
    "df['Rating_Categ'].value_counts()"
   ]
  },
  {
   "cell_type": "code",
   "execution_count": 93,
   "metadata": {},
   "outputs": [
    {
     "data": {
      "text/html": [
       "<div>\n",
       "<style scoped>\n",
       "    .dataframe tbody tr th:only-of-type {\n",
       "        vertical-align: middle;\n",
       "    }\n",
       "\n",
       "    .dataframe tbody tr th {\n",
       "        vertical-align: top;\n",
       "    }\n",
       "\n",
       "    .dataframe thead th {\n",
       "        text-align: right;\n",
       "    }\n",
       "</style>\n",
       "<table border=\"1\" class=\"dataframe\">\n",
       "  <thead>\n",
       "    <tr style=\"text-align: right;\">\n",
       "      <th></th>\n",
       "      <th>count</th>\n",
       "      <th>percentage</th>\n",
       "      <th>cumulative_percentage</th>\n",
       "    </tr>\n",
       "    <tr>\n",
       "      <th>Book-Rating</th>\n",
       "      <th></th>\n",
       "      <th></th>\n",
       "      <th></th>\n",
       "    </tr>\n",
       "  </thead>\n",
       "  <tbody>\n",
       "    <tr>\n",
       "      <th>0</th>\n",
       "      <td>716109</td>\n",
       "      <td>62.3</td>\n",
       "      <td>62.3</td>\n",
       "    </tr>\n",
       "    <tr>\n",
       "      <th>1</th>\n",
       "      <td>1770</td>\n",
       "      <td>0.2</td>\n",
       "      <td>62.5</td>\n",
       "    </tr>\n",
       "    <tr>\n",
       "      <th>2</th>\n",
       "      <td>2759</td>\n",
       "      <td>0.2</td>\n",
       "      <td>62.7</td>\n",
       "    </tr>\n",
       "    <tr>\n",
       "      <th>3</th>\n",
       "      <td>5996</td>\n",
       "      <td>0.5</td>\n",
       "      <td>63.2</td>\n",
       "    </tr>\n",
       "    <tr>\n",
       "      <th>4</th>\n",
       "      <td>8904</td>\n",
       "      <td>0.8</td>\n",
       "      <td>64.0</td>\n",
       "    </tr>\n",
       "    <tr>\n",
       "      <th>5</th>\n",
       "      <td>50974</td>\n",
       "      <td>4.4</td>\n",
       "      <td>68.4</td>\n",
       "    </tr>\n",
       "    <tr>\n",
       "      <th>6</th>\n",
       "      <td>36924</td>\n",
       "      <td>3.2</td>\n",
       "      <td>71.6</td>\n",
       "    </tr>\n",
       "    <tr>\n",
       "      <th>7</th>\n",
       "      <td>76457</td>\n",
       "      <td>6.6</td>\n",
       "      <td>78.2</td>\n",
       "    </tr>\n",
       "    <tr>\n",
       "      <th>8</th>\n",
       "      <td>103736</td>\n",
       "      <td>9.0</td>\n",
       "      <td>87.2</td>\n",
       "    </tr>\n",
       "    <tr>\n",
       "      <th>9</th>\n",
       "      <td>67541</td>\n",
       "      <td>5.9</td>\n",
       "      <td>93.1</td>\n",
       "    </tr>\n",
       "    <tr>\n",
       "      <th>10</th>\n",
       "      <td>78610</td>\n",
       "      <td>6.8</td>\n",
       "      <td>99.9</td>\n",
       "    </tr>\n",
       "  </tbody>\n",
       "</table>\n",
       "</div>"
      ],
      "text/plain": [
       "              count  percentage  cumulative_percentage\n",
       "Book-Rating                                           \n",
       "0            716109        62.3                   62.3\n",
       "1              1770         0.2                   62.5\n",
       "2              2759         0.2                   62.7\n",
       "3              5996         0.5                   63.2\n",
       "4              8904         0.8                   64.0\n",
       "5             50974         4.4                   68.4\n",
       "6             36924         3.2                   71.6\n",
       "7             76457         6.6                   78.2\n",
       "8            103736         9.0                   87.2\n",
       "9             67541         5.9                   93.1\n",
       "10            78610         6.8                   99.9"
      ]
     },
     "execution_count": 93,
     "metadata": {},
     "output_type": "execute_result"
    }
   ],
   "source": [
    "\n",
    "## Rating counts \n",
    "rating_counts = df['Book-Rating'].value_counts()\n",
    "\n",
    "## Sort by index\n",
    "rating_counts = pd.DataFrame(rating_counts.sort_index())\n",
    "## Calcualte percentages also and add as another column\n",
    "rating_counts['percentage'] = round(rating_counts/rating_counts.sum()*100,1)\n",
    "\n",
    "## Add cumulative percentage\n",
    "rating_counts['cumulative_percentage'] = rating_counts['percentage'].cumsum()\n",
    "\n",
    "\n",
    "\n",
    "rating_counts"
   ]
  },
  {
   "cell_type": "code",
   "execution_count": 94,
   "metadata": {},
   "outputs": [],
   "source": [
    "### Create a new binary category for rating (everything above 8 is 1, otherwise 0)\n",
    "\n",
    "df['Reccomnend'] = np.where(df['Book-Rating'] >= 8, 1, 0)"
   ]
  },
  {
   "cell_type": "code",
   "execution_count": 95,
   "metadata": {},
   "outputs": [
    {
     "data": {
      "text/plain": [
       "Rating_Categ\n",
       "Excellent (8-10)    249887\n",
       "Good (6-7)          113381\n",
       "Avarege (4-5)        59878\n",
       "Bad (1-3)            10525\n",
       "Name: count, dtype: int64"
      ]
     },
     "execution_count": 95,
     "metadata": {},
     "output_type": "execute_result"
    }
   ],
   "source": [
    "## Remove not rated\n",
    "df = df[df['Rating_Categ'] != 'Not rated']\n",
    "df['Rating_Categ'].value_counts()"
   ]
  },
  {
   "cell_type": "code",
   "execution_count": 96,
   "metadata": {},
   "outputs": [
    {
     "data": {
      "text/plain": [
       "Reccomnend\n",
       "1    249887\n",
       "0    183784\n",
       "Name: count, dtype: int64"
      ]
     },
     "execution_count": 96,
     "metadata": {},
     "output_type": "execute_result"
    }
   ],
   "source": [
    "df['Reccomnend'].value_counts()"
   ]
  },
  {
   "cell_type": "markdown",
   "metadata": {},
   "source": [
    "Split into train/test/val"
   ]
  },
  {
   "cell_type": "code",
   "execution_count": 97,
   "metadata": {},
   "outputs": [
    {
     "name": "stdout",
     "output_type": "stream",
     "text": [
      "Train samples:\t\t 260.202 k\n",
      "Validation samples:\t 86.734 k\n",
      "Test samples:\t\t 86.735 k\n"
     ]
    }
   ],
   "source": [
    "### Split into train, val, test\n",
    "train_df, temp_df = train_test_split(df, test_size=0.4, random_state=42)  # 80% Train\n",
    "val_df, test_df = train_test_split(temp_df, test_size=0.5, random_state=42)  # 10% Val, 10% Test\n",
    "\n",
    "del(temp_df)\n",
    "\n",
    "print(f\"Train samples:\\t\\t {len(train_df)/1000} k\")\n",
    "print(f\"Validation samples:\\t {len(val_df)/1000} k\")\n",
    "print(f\"Test samples:\\t\\t {len(test_df)/1000} k\")"
   ]
  },
  {
   "cell_type": "markdown",
   "metadata": {},
   "source": [
    "Select features and targets"
   ]
  },
  {
   "cell_type": "code",
   "execution_count": 98,
   "metadata": {},
   "outputs": [
    {
     "data": {
      "text/plain": [
       "Index(['User-ID', 'Age', 'City', 'Region/State', 'Country', 'Age_Missing',\n",
       "       'ISBN', 'Book-Rating', 'Rating_Categ', 'Book-Title', 'Book-Author',\n",
       "       'Year-Of-Publication', 'Publisher', 'Reccomnend'],\n",
       "      dtype='object')"
      ]
     },
     "execution_count": 98,
     "metadata": {},
     "output_type": "execute_result"
    }
   ],
   "source": [
    "df.columns"
   ]
  },
  {
   "cell_type": "code",
   "execution_count": 99,
   "metadata": {},
   "outputs": [],
   "source": [
    "#features = ['Age', 'City', 'Region/State', 'Country', 'Age_Missing','Year-Of-Publication']\n",
    "features = ['Age', 'Age_Missing','Year-Of-Publication']\n",
    "target_class = 'Reccomnend'\n",
    "target_reg = 'Book-Rating'"
   ]
  },
  {
   "cell_type": "code",
   "execution_count": 100,
   "metadata": {},
   "outputs": [],
   "source": [
    "X_train = train_df.loc[:,features]\n",
    "y_train = train_df.loc[:,target_class]\n",
    "\n",
    "X_val = val_df.loc[:,features]\n",
    "y_val = val_df.loc[:,target_class]\n",
    "\n",
    "X_test = test_df.loc[:,features]\n",
    "y_test = test_df.loc[:,target_class]\n",
    "\n",
    "y_train_reg = train_df.loc[:,target_reg]\n",
    "y_val_reg = val_df.loc[:,target_reg]\n",
    "y_test_reg = test_df.loc[:,target_reg]\n"
   ]
  },
  {
   "cell_type": "code",
   "execution_count": 101,
   "metadata": {},
   "outputs": [],
   "source": [
    "X_train = X_train.fillna(0)\n",
    "X_val = X_val.fillna(0)\n",
    "X_test = X_test.fillna(0)"
   ]
  },
  {
   "cell_type": "markdown",
   "metadata": {},
   "source": [
    "### Collaborative filtering"
   ]
  },
  {
   "cell_type": "markdown",
   "metadata": {},
   "source": []
  },
  {
   "cell_type": "code",
   "execution_count": 102,
   "metadata": {},
   "outputs": [
    {
     "name": "stdout",
     "output_type": "stream",
     "text": [
      "(260202, 14)\n"
     ]
    },
    {
     "data": {
      "text/plain": [
       "Index(['User-ID', 'Age', 'City', 'Region/State', 'Country', 'Age_Missing',\n",
       "       'ISBN', 'Book-Rating', 'Rating_Categ', 'Book-Title', 'Book-Author',\n",
       "       'Year-Of-Publication', 'Publisher', 'Reccomnend'],\n",
       "      dtype='object')"
      ]
     },
     "execution_count": 102,
     "metadata": {},
     "output_type": "execute_result"
    }
   ],
   "source": [
    "print(train_df.shape)\n",
    "train_df.columns"
   ]
  },
  {
   "cell_type": "code",
   "execution_count": 103,
   "metadata": {},
   "outputs": [
    {
     "name": "stdout",
     "output_type": "stream",
     "text": [
      "Unique User-IDs: 57790\n",
      "Unique ISBNs: 128919\n"
     ]
    }
   ],
   "source": [
    "### Unique User-IDs\n",
    "user_ids = len(train_df['User-ID'].unique())\n",
    "print(f\"Unique User-IDs: {user_ids}\")\n",
    "\n",
    "### Unique ISBNs\n",
    "ISBNs = len(train_df['ISBN'].unique())\n",
    "print(f\"Unique ISBNs: {ISBNs}\")"
   ]
  },
  {
   "cell_type": "code",
   "execution_count": 104,
   "metadata": {},
   "outputs": [],
   "source": [
    "### Filter boooks"
   ]
  },
  {
   "cell_type": "code",
   "execution_count": 105,
   "metadata": {},
   "outputs": [
    {
     "name": "stdout",
     "output_type": "stream",
     "text": [
      "Unique ISBNs: 1000\n"
     ]
    }
   ],
   "source": [
    "# Get the top N most rated books\n",
    "n_books = 1000\n",
    "\n",
    "top_n_books = train_df.groupby('ISBN').size().sort_values(ascending=False).head(1000).index\n",
    "\n",
    "# Filter the DataFrame to include only the top N books\n",
    "subset_df_books = train_df[train_df['ISBN'].isin(top_n_books)].copy()\n",
    "\n",
    "\n",
    "print(f\"Unique ISBNs: {len(subset_df_books['ISBN'].unique())}\")\n"
   ]
  },
  {
   "cell_type": "markdown",
   "metadata": {},
   "source": [
    "Filter user"
   ]
  },
  {
   "cell_type": "code",
   "execution_count": 116,
   "metadata": {},
   "outputs": [
    {
     "name": "stdout",
     "output_type": "stream",
     "text": [
      "Unique User-IDs: 1502\n",
      "Unique ISBNs: 997\n"
     ]
    }
   ],
   "source": [
    "# Step 1: Count the number of ratings per user\n",
    "user_counts = train_df.groupby('User-ID').size()\n",
    "\n",
    "n = 25\n",
    "# Step 2: Filter users who have at least 50 ratings (or any threshold)\n",
    "users_with_at_least_n_ratings = user_counts[user_counts >= 25].index\n",
    "\n",
    "subset_df_book_users = subset_df_books[subset_df_books['User-ID'].isin(users_with_at_least_50_ratings)]\n",
    "\n",
    "print(f\"Unique User-IDs: {len(subset_df_book_users['User-ID'].unique())}\")\n",
    "print(f\"Unique ISBNs: {len(subset_df_book_users['ISBN'].unique())}\")\n"
   ]
  },
  {
   "cell_type": "code",
   "execution_count": 117,
   "metadata": {},
   "outputs": [
    {
     "data": {
      "text/plain": [
       "(13867, 14)"
      ]
     },
     "execution_count": 117,
     "metadata": {},
     "output_type": "execute_result"
    }
   ],
   "source": [
    "subset_df_book_users.shape"
   ]
  },
  {
   "cell_type": "code",
   "execution_count": 118,
   "metadata": {},
   "outputs": [],
   "source": [
    "import numpy as np\n",
    "from sklearn.metrics.pairwise import cosine_similarity\n",
    "import pandas as pd\n",
    "\n",
    "# Assume you have a DataFrame with user-item interactions (ratings)\n",
    "# Example: user-item ratings matrix where rows are users and columns are items\n",
    "user_item_matrix = subset_df_book_users.pivot_table(index='User-ID', columns='ISBN', values='Book-Rating')\n",
    "\n",
    "# Compute the cosine similarity between users\n",
    "user_similarity = cosine_similarity(user_item_matrix.fillna(0))  # Replace NaNs with 0 for similarity calculation"
   ]
  },
  {
   "cell_type": "code",
   "execution_count": 119,
   "metadata": {},
   "outputs": [
    {
     "data": {
      "text/plain": [
       "array([[1., 0., 0., ..., 0., 0., 0.],\n",
       "       [0., 1., 0., ..., 0., 0., 0.],\n",
       "       [0., 0., 1., ..., 0., 0., 0.],\n",
       "       ...,\n",
       "       [0., 0., 0., ..., 1., 0., 0.],\n",
       "       [0., 0., 0., ..., 0., 1., 0.],\n",
       "       [0., 0., 0., ..., 0., 0., 1.]], shape=(1502, 1502))"
      ]
     },
     "execution_count": 119,
     "metadata": {},
     "output_type": "execute_result"
    }
   ],
   "source": [
    "user_similarity"
   ]
  },
  {
   "cell_type": "code",
   "execution_count": null,
   "metadata": {},
   "outputs": [],
   "source": []
  }
 ],
 "metadata": {
  "kernelspec": {
   "display_name": ".venv",
   "language": "python",
   "name": "python3"
  },
  "language_info": {
   "codemirror_mode": {
    "name": "ipython",
    "version": 3
   },
   "file_extension": ".py",
   "mimetype": "text/x-python",
   "name": "python",
   "nbconvert_exporter": "python",
   "pygments_lexer": "ipython3",
   "version": "3.11.9"
  }
 },
 "nbformat": 4,
 "nbformat_minor": 2
}
