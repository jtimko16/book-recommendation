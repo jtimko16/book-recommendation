{
 "cells": [
  {
   "cell_type": "markdown",
   "metadata": {},
   "source": [
    "### Baseline model for predicting reccomended book"
   ]
  },
  {
   "cell_type": "code",
   "execution_count": null,
   "metadata": {},
   "outputs": [],
   "source": [
    "import pandas as pd\n",
    "import numpy as np"
   ]
  },
  {
   "cell_type": "code",
   "execution_count": 2,
   "metadata": {},
   "outputs": [],
   "source": [
    "import sys\n",
    "sys.path.append('../')\n",
    "\n",
    "from functions.fun_model import recommend_books, not_recommended_books"
   ]
  },
  {
   "cell_type": "markdown",
   "metadata": {},
   "source": [
    "### Import dataset, split into train/val/test"
   ]
  },
  {
   "cell_type": "code",
   "execution_count": 3,
   "metadata": {},
   "outputs": [
    {
     "data": {
      "text/html": [
       "<div>\n",
       "<style scoped>\n",
       "    .dataframe tbody tr th:only-of-type {\n",
       "        vertical-align: middle;\n",
       "    }\n",
       "\n",
       "    .dataframe tbody tr th {\n",
       "        vertical-align: top;\n",
       "    }\n",
       "\n",
       "    .dataframe thead th {\n",
       "        text-align: right;\n",
       "    }\n",
       "</style>\n",
       "<table border=\"1\" class=\"dataframe\">\n",
       "  <thead>\n",
       "    <tr style=\"text-align: right;\">\n",
       "      <th></th>\n",
       "      <th>User-ID</th>\n",
       "      <th>Age</th>\n",
       "      <th>City</th>\n",
       "      <th>Region/State</th>\n",
       "      <th>Country</th>\n",
       "      <th>Age_Missing</th>\n",
       "      <th>ISBN</th>\n",
       "      <th>Book-Rating</th>\n",
       "      <th>Rating_Categ</th>\n",
       "      <th>Book-Title</th>\n",
       "      <th>Book-Author</th>\n",
       "      <th>Year-Of-Publication</th>\n",
       "      <th>Publisher</th>\n",
       "    </tr>\n",
       "  </thead>\n",
       "  <tbody>\n",
       "    <tr>\n",
       "      <th>0</th>\n",
       "      <td>2</td>\n",
       "      <td>18.0</td>\n",
       "      <td>stockton</td>\n",
       "      <td>california</td>\n",
       "      <td>usa</td>\n",
       "      <td>0</td>\n",
       "      <td>0195153448</td>\n",
       "      <td>0</td>\n",
       "      <td>Not rated</td>\n",
       "      <td>Classical Mythology</td>\n",
       "      <td>Mark P. O. Morford</td>\n",
       "      <td>2002.0</td>\n",
       "      <td>Oxford University Press</td>\n",
       "    </tr>\n",
       "    <tr>\n",
       "      <th>1</th>\n",
       "      <td>7</td>\n",
       "      <td>-1.0</td>\n",
       "      <td>washington</td>\n",
       "      <td>dc</td>\n",
       "      <td>usa</td>\n",
       "      <td>1</td>\n",
       "      <td>034542252</td>\n",
       "      <td>0</td>\n",
       "      <td>Not rated</td>\n",
       "      <td>NaN</td>\n",
       "      <td>NaN</td>\n",
       "      <td>NaN</td>\n",
       "      <td>NaN</td>\n",
       "    </tr>\n",
       "    <tr>\n",
       "      <th>2</th>\n",
       "      <td>8</td>\n",
       "      <td>-1.0</td>\n",
       "      <td>timmins</td>\n",
       "      <td>ontario</td>\n",
       "      <td>canada</td>\n",
       "      <td>1</td>\n",
       "      <td>0002005018</td>\n",
       "      <td>5</td>\n",
       "      <td>Avarege (4-5)</td>\n",
       "      <td>Clara Callan</td>\n",
       "      <td>Richard Bruce Wright</td>\n",
       "      <td>2001.0</td>\n",
       "      <td>HarperFlamingo Canada</td>\n",
       "    </tr>\n",
       "    <tr>\n",
       "      <th>3</th>\n",
       "      <td>8</td>\n",
       "      <td>-1.0</td>\n",
       "      <td>timmins</td>\n",
       "      <td>ontario</td>\n",
       "      <td>canada</td>\n",
       "      <td>1</td>\n",
       "      <td>0060973129</td>\n",
       "      <td>0</td>\n",
       "      <td>Not rated</td>\n",
       "      <td>Decision in Normandy</td>\n",
       "      <td>Carlo D'Este</td>\n",
       "      <td>1991.0</td>\n",
       "      <td>HarperPerennial</td>\n",
       "    </tr>\n",
       "    <tr>\n",
       "      <th>4</th>\n",
       "      <td>8</td>\n",
       "      <td>-1.0</td>\n",
       "      <td>timmins</td>\n",
       "      <td>ontario</td>\n",
       "      <td>canada</td>\n",
       "      <td>1</td>\n",
       "      <td>0374157065</td>\n",
       "      <td>0</td>\n",
       "      <td>Not rated</td>\n",
       "      <td>Flu: The Story of the Great Influenza Pandemic...</td>\n",
       "      <td>Gina Bari Kolata</td>\n",
       "      <td>1999.0</td>\n",
       "      <td>Farrar Straus Giroux</td>\n",
       "    </tr>\n",
       "  </tbody>\n",
       "</table>\n",
       "</div>"
      ],
      "text/plain": [
       "   User-ID   Age        City Region/State Country  Age_Missing        ISBN  \\\n",
       "0        2  18.0    stockton   california     usa            0  0195153448   \n",
       "1        7  -1.0  washington           dc     usa            1   034542252   \n",
       "2        8  -1.0     timmins      ontario  canada            1  0002005018   \n",
       "3        8  -1.0     timmins      ontario  canada            1  0060973129   \n",
       "4        8  -1.0     timmins      ontario  canada            1  0374157065   \n",
       "\n",
       "   Book-Rating   Rating_Categ  \\\n",
       "0            0      Not rated   \n",
       "1            0      Not rated   \n",
       "2            5  Avarege (4-5)   \n",
       "3            0      Not rated   \n",
       "4            0      Not rated   \n",
       "\n",
       "                                          Book-Title           Book-Author  \\\n",
       "0                                Classical Mythology    Mark P. O. Morford   \n",
       "1                                                NaN                   NaN   \n",
       "2                                       Clara Callan  Richard Bruce Wright   \n",
       "3                               Decision in Normandy          Carlo D'Este   \n",
       "4  Flu: The Story of the Great Influenza Pandemic...      Gina Bari Kolata   \n",
       "\n",
       "   Year-Of-Publication                Publisher  \n",
       "0               2002.0  Oxford University Press  \n",
       "1                  NaN                      NaN  \n",
       "2               2001.0    HarperFlamingo Canada  \n",
       "3               1991.0          HarperPerennial  \n",
       "4               1999.0     Farrar Straus Giroux  "
      ]
     },
     "execution_count": 3,
     "metadata": {},
     "output_type": "execute_result"
    }
   ],
   "source": [
    "df = pd.read_csv('model_data/model_data_wo_eXtern.csv')\n",
    "\n",
    "df.head(5)"
   ]
  },
  {
   "cell_type": "markdown",
   "metadata": {},
   "source": [
    "### Remove not rated"
   ]
  },
  {
   "cell_type": "code",
   "execution_count": 4,
   "metadata": {},
   "outputs": [
    {
     "data": {
      "text/plain": [
       "Rating_Categ\n",
       "Not rated           716109\n",
       "Excellent (8-10)    249887\n",
       "Good (6-7)          113381\n",
       "Avarege (4-5)        59878\n",
       "Bad (1-3)            10525\n",
       "Name: count, dtype: int64"
      ]
     },
     "execution_count": 4,
     "metadata": {},
     "output_type": "execute_result"
    }
   ],
   "source": [
    "### Unique values and counts from rating_categ\n",
    "df['Rating_Categ'].value_counts()"
   ]
  },
  {
   "cell_type": "code",
   "execution_count": null,
   "metadata": {},
   "outputs": [
    {
     "data": {
      "text/plain": [
       "Recommend\n",
       "0    823436\n",
       "1    326344\n",
       "Name: count, dtype: int64"
      ]
     },
     "execution_count": 5,
     "metadata": {},
     "output_type": "execute_result"
    }
   ],
   "source": [
    "### Create a new binary category for rating (everything above 8 is 1, otherwise 0)\n",
    "df['Recommend'] = np.where(df['Book-Rating'] >= 7, 1, 0)\n",
    "\n",
    "df['Not_Recommend'] = np.where((df['Book-Rating'] <= 6) & (df['Book-Rating'] > 0), 1, 0)\n",
    "df['Recommend'].value_counts()"
   ]
  },
  {
   "cell_type": "code",
   "execution_count": 6,
   "metadata": {},
   "outputs": [
    {
     "data": {
      "text/plain": [
       "Not_Recommend\n",
       "0    1042453\n",
       "1     107327\n",
       "Name: count, dtype: int64"
      ]
     },
     "execution_count": 6,
     "metadata": {},
     "output_type": "execute_result"
    }
   ],
   "source": [
    "df['Not_Recommend'].value_counts()"
   ]
  },
  {
   "cell_type": "markdown",
   "metadata": {},
   "source": [
    "### Association rules"
   ]
  },
  {
   "cell_type": "code",
   "execution_count": 23,
   "metadata": {},
   "outputs": [
    {
     "name": "stdout",
     "output_type": "stream",
     "text": [
      "(1149780, 15)\n"
     ]
    },
    {
     "data": {
      "text/plain": [
       "Index(['User-ID', 'Age', 'City', 'Region/State', 'Country', 'Age_Missing',\n",
       "       'ISBN', 'Book-Rating', 'Rating_Categ', 'Book-Title', 'Book-Author',\n",
       "       'Year-Of-Publication', 'Publisher', 'Recommend', 'Not_Recommend'],\n",
       "      dtype='object')"
      ]
     },
     "execution_count": 23,
     "metadata": {},
     "output_type": "execute_result"
    }
   ],
   "source": [
    "print(df.shape)\n",
    "df.columns"
   ]
  },
  {
   "cell_type": "code",
   "execution_count": 24,
   "metadata": {},
   "outputs": [
    {
     "name": "stdout",
     "output_type": "stream",
     "text": [
      "Unique User-IDs: 105283\n",
      "Unique ISBNs: 340556\n"
     ]
    }
   ],
   "source": [
    "### Unique User-IDs\n",
    "user_ids = len(df['User-ID'].unique())\n",
    "print(f\"Unique User-IDs: {user_ids}\")\n",
    "\n",
    "### Unique ISBNs\n",
    "ISBNs = len(df['ISBN'].unique())\n",
    "print(f\"Unique ISBNs: {ISBNs}\")"
   ]
  },
  {
   "cell_type": "markdown",
   "metadata": {},
   "source": [
    "### Filter boooks"
   ]
  },
  {
   "cell_type": "code",
   "execution_count": 26,
   "metadata": {},
   "outputs": [
    {
     "name": "stdout",
     "output_type": "stream",
     "text": [
      "Unique ISBNs: 1000\n"
     ]
    }
   ],
   "source": [
    "# Get the top N most rated books\n",
    "n_books = 1000\n",
    "\n",
    "top_n_books = df.groupby('ISBN').size().sort_values(ascending=False).head(1000).index\n",
    "\n",
    "# Filter the DataFrame to include only the top N books\n",
    "subset_df_books = df[df['ISBN'].isin(top_n_books)].copy()\n",
    "\n",
    "\n",
    "print(f\"Unique ISBNs: {len(subset_df_books['ISBN'].unique())}\")\n"
   ]
  },
  {
   "cell_type": "markdown",
   "metadata": {},
   "source": [
    "### Filter users"
   ]
  },
  {
   "cell_type": "code",
   "execution_count": 27,
   "metadata": {},
   "outputs": [
    {
     "name": "stdout",
     "output_type": "stream",
     "text": [
      "Unique User-IDs: 5498\n",
      "Unique ISBNs: 1000\n"
     ]
    }
   ],
   "source": [
    "# Step 1: Count the number of ratings per user\n",
    "user_counts = df.groupby('User-ID').size()\n",
    "\n",
    "n = 25\n",
    "# Step 2: Filter users who have at least 50 ratings (or any threshold)\n",
    "users_with_at_least_n_ratings = user_counts[user_counts >= 25].index\n",
    "\n",
    "subset_df_book_users = subset_df_books[subset_df_books['User-ID'].isin(users_with_at_least_n_ratings)]\n",
    "\n",
    "print(f\"Unique User-IDs: {len(subset_df_book_users['User-ID'].unique())}\")\n",
    "print(f\"Unique ISBNs: {len(subset_df_book_users['ISBN'].unique())}\")\n"
   ]
  },
  {
   "cell_type": "code",
   "execution_count": 28,
   "metadata": {},
   "outputs": [],
   "source": [
    "user_book_matrix = subset_df_book_users.pivot(index='User-ID', columns='ISBN', values='Recommend').fillna(0)"
   ]
  },
  {
   "cell_type": "code",
   "execution_count": 29,
   "metadata": {},
   "outputs": [
    {
     "data": {
      "text/html": [
       "<div>\n",
       "<style scoped>\n",
       "    .dataframe tbody tr th:only-of-type {\n",
       "        vertical-align: middle;\n",
       "    }\n",
       "\n",
       "    .dataframe tbody tr th {\n",
       "        vertical-align: top;\n",
       "    }\n",
       "\n",
       "    .dataframe thead th {\n",
       "        text-align: right;\n",
       "    }\n",
       "</style>\n",
       "<table border=\"1\" class=\"dataframe\">\n",
       "  <thead>\n",
       "    <tr style=\"text-align: right;\">\n",
       "      <th>ISBN</th>\n",
       "      <th>000649840X</th>\n",
       "      <th>002542730X</th>\n",
       "      <th>0060008032</th>\n",
       "      <th>0060096195</th>\n",
       "      <th>006016848X</th>\n",
       "      <th>0060173289</th>\n",
       "      <th>0060175400</th>\n",
       "      <th>0060188731</th>\n",
       "      <th>006019491X</th>\n",
       "      <th>0060199652</th>\n",
       "    </tr>\n",
       "    <tr>\n",
       "      <th>User-ID</th>\n",
       "      <th></th>\n",
       "      <th></th>\n",
       "      <th></th>\n",
       "      <th></th>\n",
       "      <th></th>\n",
       "      <th></th>\n",
       "      <th></th>\n",
       "      <th></th>\n",
       "      <th></th>\n",
       "      <th></th>\n",
       "    </tr>\n",
       "  </thead>\n",
       "  <tbody>\n",
       "    <tr>\n",
       "      <th>242</th>\n",
       "      <td>0.0</td>\n",
       "      <td>0.0</td>\n",
       "      <td>0.0</td>\n",
       "      <td>0.0</td>\n",
       "      <td>0.0</td>\n",
       "      <td>0.0</td>\n",
       "      <td>0.0</td>\n",
       "      <td>0.0</td>\n",
       "      <td>0.0</td>\n",
       "      <td>0.0</td>\n",
       "    </tr>\n",
       "    <tr>\n",
       "      <th>243</th>\n",
       "      <td>0.0</td>\n",
       "      <td>0.0</td>\n",
       "      <td>0.0</td>\n",
       "      <td>0.0</td>\n",
       "      <td>0.0</td>\n",
       "      <td>0.0</td>\n",
       "      <td>0.0</td>\n",
       "      <td>0.0</td>\n",
       "      <td>0.0</td>\n",
       "      <td>0.0</td>\n",
       "    </tr>\n",
       "    <tr>\n",
       "      <th>254</th>\n",
       "      <td>0.0</td>\n",
       "      <td>0.0</td>\n",
       "      <td>0.0</td>\n",
       "      <td>0.0</td>\n",
       "      <td>0.0</td>\n",
       "      <td>0.0</td>\n",
       "      <td>0.0</td>\n",
       "      <td>0.0</td>\n",
       "      <td>0.0</td>\n",
       "      <td>0.0</td>\n",
       "    </tr>\n",
       "    <tr>\n",
       "      <th>383</th>\n",
       "      <td>0.0</td>\n",
       "      <td>0.0</td>\n",
       "      <td>0.0</td>\n",
       "      <td>0.0</td>\n",
       "      <td>0.0</td>\n",
       "      <td>0.0</td>\n",
       "      <td>0.0</td>\n",
       "      <td>0.0</td>\n",
       "      <td>0.0</td>\n",
       "      <td>0.0</td>\n",
       "    </tr>\n",
       "    <tr>\n",
       "      <th>446</th>\n",
       "      <td>0.0</td>\n",
       "      <td>0.0</td>\n",
       "      <td>0.0</td>\n",
       "      <td>0.0</td>\n",
       "      <td>0.0</td>\n",
       "      <td>0.0</td>\n",
       "      <td>0.0</td>\n",
       "      <td>0.0</td>\n",
       "      <td>0.0</td>\n",
       "      <td>0.0</td>\n",
       "    </tr>\n",
       "    <tr>\n",
       "      <th>487</th>\n",
       "      <td>0.0</td>\n",
       "      <td>0.0</td>\n",
       "      <td>0.0</td>\n",
       "      <td>0.0</td>\n",
       "      <td>0.0</td>\n",
       "      <td>0.0</td>\n",
       "      <td>0.0</td>\n",
       "      <td>0.0</td>\n",
       "      <td>0.0</td>\n",
       "      <td>0.0</td>\n",
       "    </tr>\n",
       "    <tr>\n",
       "      <th>503</th>\n",
       "      <td>0.0</td>\n",
       "      <td>0.0</td>\n",
       "      <td>0.0</td>\n",
       "      <td>0.0</td>\n",
       "      <td>0.0</td>\n",
       "      <td>0.0</td>\n",
       "      <td>0.0</td>\n",
       "      <td>0.0</td>\n",
       "      <td>0.0</td>\n",
       "      <td>0.0</td>\n",
       "    </tr>\n",
       "    <tr>\n",
       "      <th>507</th>\n",
       "      <td>0.0</td>\n",
       "      <td>0.0</td>\n",
       "      <td>0.0</td>\n",
       "      <td>0.0</td>\n",
       "      <td>0.0</td>\n",
       "      <td>0.0</td>\n",
       "      <td>0.0</td>\n",
       "      <td>0.0</td>\n",
       "      <td>0.0</td>\n",
       "      <td>0.0</td>\n",
       "    </tr>\n",
       "    <tr>\n",
       "      <th>626</th>\n",
       "      <td>0.0</td>\n",
       "      <td>0.0</td>\n",
       "      <td>0.0</td>\n",
       "      <td>0.0</td>\n",
       "      <td>0.0</td>\n",
       "      <td>0.0</td>\n",
       "      <td>0.0</td>\n",
       "      <td>0.0</td>\n",
       "      <td>0.0</td>\n",
       "      <td>0.0</td>\n",
       "    </tr>\n",
       "    <tr>\n",
       "      <th>638</th>\n",
       "      <td>0.0</td>\n",
       "      <td>0.0</td>\n",
       "      <td>0.0</td>\n",
       "      <td>0.0</td>\n",
       "      <td>0.0</td>\n",
       "      <td>0.0</td>\n",
       "      <td>0.0</td>\n",
       "      <td>0.0</td>\n",
       "      <td>0.0</td>\n",
       "      <td>0.0</td>\n",
       "    </tr>\n",
       "  </tbody>\n",
       "</table>\n",
       "</div>"
      ],
      "text/plain": [
       "ISBN     000649840X  002542730X  0060008032  0060096195  006016848X  \\\n",
       "User-ID                                                               \n",
       "242             0.0         0.0         0.0         0.0         0.0   \n",
       "243             0.0         0.0         0.0         0.0         0.0   \n",
       "254             0.0         0.0         0.0         0.0         0.0   \n",
       "383             0.0         0.0         0.0         0.0         0.0   \n",
       "446             0.0         0.0         0.0         0.0         0.0   \n",
       "487             0.0         0.0         0.0         0.0         0.0   \n",
       "503             0.0         0.0         0.0         0.0         0.0   \n",
       "507             0.0         0.0         0.0         0.0         0.0   \n",
       "626             0.0         0.0         0.0         0.0         0.0   \n",
       "638             0.0         0.0         0.0         0.0         0.0   \n",
       "\n",
       "ISBN     0060173289  0060175400  0060188731  006019491X  0060199652  \n",
       "User-ID                                                              \n",
       "242             0.0         0.0         0.0         0.0         0.0  \n",
       "243             0.0         0.0         0.0         0.0         0.0  \n",
       "254             0.0         0.0         0.0         0.0         0.0  \n",
       "383             0.0         0.0         0.0         0.0         0.0  \n",
       "446             0.0         0.0         0.0         0.0         0.0  \n",
       "487             0.0         0.0         0.0         0.0         0.0  \n",
       "503             0.0         0.0         0.0         0.0         0.0  \n",
       "507             0.0         0.0         0.0         0.0         0.0  \n",
       "626             0.0         0.0         0.0         0.0         0.0  \n",
       "638             0.0         0.0         0.0         0.0         0.0  "
      ]
     },
     "execution_count": 29,
     "metadata": {},
     "output_type": "execute_result"
    }
   ],
   "source": [
    "user_book_matrix.iloc[0:10,0:10]"
   ]
  },
  {
   "cell_type": "code",
   "execution_count": 30,
   "metadata": {},
   "outputs": [
    {
     "data": {
      "text/plain": [
       "ISBN\n",
       "0316666343    281.0\n",
       "0385504209    228.0\n",
       "059035342X    165.0\n",
       "0312195516    159.0\n",
       "043935806X    139.0\n",
       "0679781587    138.0\n",
       "0142001740    136.0\n",
       "0446672211    131.0\n",
       "0060928336    126.0\n",
       "0446310786    122.0\n",
       "dtype: float64"
      ]
     },
     "execution_count": 30,
     "metadata": {},
     "output_type": "execute_result"
    }
   ],
   "source": [
    "user_book_matrix.sum().sort_values(ascending=False).head(10)"
   ]
  },
  {
   "cell_type": "markdown",
   "metadata": {},
   "source": [
    "### Simple reccomnendation system"
   ]
  },
  {
   "cell_type": "code",
   "execution_count": null,
   "metadata": {},
   "outputs": [
    {
     "name": "stdout",
     "output_type": "stream",
     "text": [
      "Selected Book: The Da Vinci Code\n",
      "                                            Book-Title  Count_recommend\n",
      "53                                 Angels &amp; Demons               34\n",
      "648                          The Lovely Bones: A Novel               32\n",
      "691                            The Secret Life of Bees               25\n",
      "681                The Red Tent (Bestselling Backlist)               19\n",
      "328                                         Life of Pi               17\n",
      "..                                                 ...              ...\n",
      "592  The Fellowship of the Ring (The Lord of the Ri...                7\n",
      "719                                  The Tommyknockers                7\n",
      "233                           From a Buick 8 : A Novel                7\n",
      "702                                  The Street Lawyer                7\n",
      "280                           I Know This Much Is True                7\n",
      "\n",
      "[100 rows x 2 columns]\n"
     ]
    }
   ],
   "source": [
    "# Example: User selects ISBN \"12345\"\n",
    "#selected_book = \"059035342X\" # Harry Potter and the Sorcerer's Stone\n",
    "\n",
    "selected_book = '0385504209' # The Da Vinci Code\n",
    "\n",
    "### Look up book name for selected book\n",
    "selected_book_name = df[df['ISBN'] == selected_book]['Book-Title'].values[0]\n",
    "print(f\"Selected Book: {selected_book_name}\")\n",
    "\n",
    "recommendations = recommend_books(selected_book, subset_df_book_users)\n",
    "\n",
    "print(recommendations.head(100))"
   ]
  },
  {
   "cell_type": "code",
   "execution_count": 38,
   "metadata": {},
   "outputs": [
    {
     "name": "stdout",
     "output_type": "stream",
     "text": [
      "                                           Book-Title  Count_not_recommend\n",
      "28                                   Lucky : A Memoir                    2\n",
      "0                                           4 Blondes                    1\n",
      "2                                      ANGELA'S ASHES                    1\n",
      "3             Along Came a Spider (Alex Cross Novels)                    1\n",
      "4   Angus, Thongs and Full-Frontal Snogging: Confe...                    1\n",
      "1   A Is for Alibi (Kinsey Millhone Mysteries (Pap...                    1\n",
      "5                                      Ashes to Ashes                    1\n",
      "6              At Home in Mitford (The Mitford Years)                    1\n",
      "8                                   Breathing Lessons                    1\n",
      "7                                           Bleachers                    1\n"
     ]
    }
   ],
   "source": [
    "not_reccomendations = not_recommended_books(selected_book, subset_df_book_users)\n",
    "print(not_reccomendations.head(10))"
   ]
  },
  {
   "cell_type": "code",
   "execution_count": 39,
   "metadata": {},
   "outputs": [],
   "source": [
    "### Join the two dataframes by the ISBN\n",
    "merge_reccomendations = recommendations.merge(not_reccomendations, how='left', left_on='Book-Title', right_on='Book-Title').fillna(0)\n",
    "\n",
    "## Calculate reccomneded %%!\n",
    "merge_reccomendations['Recommendation_Percentage'] =100* merge_reccomendations['Count_recommend'] / (merge_reccomendations['Count_recommend'] + merge_reccomendations['Count_not_recommend'])\n"
   ]
  },
  {
   "cell_type": "code",
   "execution_count": 40,
   "metadata": {},
   "outputs": [
    {
     "data": {
      "text/html": [
       "<div>\n",
       "<style scoped>\n",
       "    .dataframe tbody tr th:only-of-type {\n",
       "        vertical-align: middle;\n",
       "    }\n",
       "\n",
       "    .dataframe tbody tr th {\n",
       "        vertical-align: top;\n",
       "    }\n",
       "\n",
       "    .dataframe thead th {\n",
       "        text-align: right;\n",
       "    }\n",
       "</style>\n",
       "<table border=\"1\" class=\"dataframe\">\n",
       "  <thead>\n",
       "    <tr style=\"text-align: right;\">\n",
       "      <th></th>\n",
       "      <th>Book-Title</th>\n",
       "      <th>Count_recommend</th>\n",
       "      <th>Count_not_recommend</th>\n",
       "      <th>Recommendation_Percentage</th>\n",
       "    </tr>\n",
       "  </thead>\n",
       "  <tbody>\n",
       "    <tr>\n",
       "      <th>0</th>\n",
       "      <td>Angels &amp;amp; Demons</td>\n",
       "      <td>34</td>\n",
       "      <td>0.0</td>\n",
       "      <td>100.000000</td>\n",
       "    </tr>\n",
       "    <tr>\n",
       "      <th>1</th>\n",
       "      <td>The Lovely Bones: A Novel</td>\n",
       "      <td>32</td>\n",
       "      <td>0.0</td>\n",
       "      <td>100.000000</td>\n",
       "    </tr>\n",
       "    <tr>\n",
       "      <th>2</th>\n",
       "      <td>The Secret Life of Bees</td>\n",
       "      <td>25</td>\n",
       "      <td>1.0</td>\n",
       "      <td>96.153846</td>\n",
       "    </tr>\n",
       "    <tr>\n",
       "      <th>3</th>\n",
       "      <td>The Red Tent (Bestselling Backlist)</td>\n",
       "      <td>19</td>\n",
       "      <td>1.0</td>\n",
       "      <td>95.000000</td>\n",
       "    </tr>\n",
       "    <tr>\n",
       "      <th>4</th>\n",
       "      <td>Life of Pi</td>\n",
       "      <td>17</td>\n",
       "      <td>0.0</td>\n",
       "      <td>100.000000</td>\n",
       "    </tr>\n",
       "    <tr>\n",
       "      <th>...</th>\n",
       "      <td>...</td>\n",
       "      <td>...</td>\n",
       "      <td>...</td>\n",
       "      <td>...</td>\n",
       "    </tr>\n",
       "    <tr>\n",
       "      <th>803</th>\n",
       "      <td>Valhalla Rising (Dirk Pitt Adventures (Paperba...</td>\n",
       "      <td>1</td>\n",
       "      <td>0.0</td>\n",
       "      <td>100.000000</td>\n",
       "    </tr>\n",
       "    <tr>\n",
       "      <th>804</th>\n",
       "      <td>Vector</td>\n",
       "      <td>1</td>\n",
       "      <td>0.0</td>\n",
       "      <td>100.000000</td>\n",
       "    </tr>\n",
       "    <tr>\n",
       "      <th>805</th>\n",
       "      <td>Visions of Sugar Plums: A Stephanie Plum Holid...</td>\n",
       "      <td>1</td>\n",
       "      <td>0.0</td>\n",
       "      <td>100.000000</td>\n",
       "    </tr>\n",
       "    <tr>\n",
       "      <th>806</th>\n",
       "      <td>Waiting to Exhale</td>\n",
       "      <td>1</td>\n",
       "      <td>0.0</td>\n",
       "      <td>100.000000</td>\n",
       "    </tr>\n",
       "    <tr>\n",
       "      <th>807</th>\n",
       "      <td>A Beautiful Mind: The Life of Mathematical Gen...</td>\n",
       "      <td>1</td>\n",
       "      <td>0.0</td>\n",
       "      <td>100.000000</td>\n",
       "    </tr>\n",
       "  </tbody>\n",
       "</table>\n",
       "<p>808 rows × 4 columns</p>\n",
       "</div>"
      ],
      "text/plain": [
       "                                            Book-Title  Count_recommend  \\\n",
       "0                                  Angels &amp; Demons               34   \n",
       "1                            The Lovely Bones: A Novel               32   \n",
       "2                              The Secret Life of Bees               25   \n",
       "3                  The Red Tent (Bestselling Backlist)               19   \n",
       "4                                           Life of Pi               17   \n",
       "..                                                 ...              ...   \n",
       "803  Valhalla Rising (Dirk Pitt Adventures (Paperba...                1   \n",
       "804                                             Vector                1   \n",
       "805  Visions of Sugar Plums: A Stephanie Plum Holid...                1   \n",
       "806                                  Waiting to Exhale                1   \n",
       "807  A Beautiful Mind: The Life of Mathematical Gen...                1   \n",
       "\n",
       "     Count_not_recommend  Recommendation_Percentage  \n",
       "0                    0.0                 100.000000  \n",
       "1                    0.0                 100.000000  \n",
       "2                    1.0                  96.153846  \n",
       "3                    1.0                  95.000000  \n",
       "4                    0.0                 100.000000  \n",
       "..                   ...                        ...  \n",
       "803                  0.0                 100.000000  \n",
       "804                  0.0                 100.000000  \n",
       "805                  0.0                 100.000000  \n",
       "806                  0.0                 100.000000  \n",
       "807                  0.0                 100.000000  \n",
       "\n",
       "[808 rows x 4 columns]"
      ]
     },
     "execution_count": 40,
     "metadata": {},
     "output_type": "execute_result"
    }
   ],
   "source": [
    "merge_reccomendations\n",
    "\n"
   ]
  },
  {
   "cell_type": "markdown",
   "metadata": {},
   "source": [
    "## Objective function"
   ]
  },
  {
   "cell_type": "code",
   "execution_count": 41,
   "metadata": {},
   "outputs": [],
   "source": [
    "def rank_books(df, count_col=\"Count_Recommend\", percent_col=\"Percent_Recommend\", top_n=10, w1=0.5, w2=0.5):\n",
    "    \"\"\"Ranks books based on Count_Recommend and % Recommendation.\"\"\"\n",
    "    \n",
    "    # Normalize values between 0 and 1\n",
    "    df[count_col + \"_norm\"] = (df[count_col] - df[count_col].min()) / (df[count_col].max() - df[count_col].min())\n",
    "    df[percent_col + \"_norm\"] = (df[percent_col] - df[percent_col].min()) / (df[percent_col].max() - df[percent_col].min())\n",
    "\n",
    "    # Compute score\n",
    "    df[\"Score\"] = w1 * df[count_col + \"_norm\"] + w2 * df[percent_col + \"_norm\"]\n",
    "\n",
    "    # Select top books\n",
    "    top_books = df.sort_values(by=\"Score\", ascending=False).head(top_n)\n",
    "\n",
    "    return top_books[[\"Book-Title\", \"Score\", count_col, percent_col]]"
   ]
  },
  {
   "cell_type": "code",
   "execution_count": 44,
   "metadata": {},
   "outputs": [
    {
     "data": {
      "text/html": [
       "<div>\n",
       "<style scoped>\n",
       "    .dataframe tbody tr th:only-of-type {\n",
       "        vertical-align: middle;\n",
       "    }\n",
       "\n",
       "    .dataframe tbody tr th {\n",
       "        vertical-align: top;\n",
       "    }\n",
       "\n",
       "    .dataframe thead th {\n",
       "        text-align: right;\n",
       "    }\n",
       "</style>\n",
       "<table border=\"1\" class=\"dataframe\">\n",
       "  <thead>\n",
       "    <tr style=\"text-align: right;\">\n",
       "      <th></th>\n",
       "      <th>Book-Title</th>\n",
       "      <th>Score</th>\n",
       "      <th>Count_recommend</th>\n",
       "      <th>Recommendation_Percentage</th>\n",
       "    </tr>\n",
       "  </thead>\n",
       "  <tbody>\n",
       "    <tr>\n",
       "      <th>0</th>\n",
       "      <td>Angels &amp;amp; Demons</td>\n",
       "      <td>1.000000</td>\n",
       "      <td>34</td>\n",
       "      <td>100.000000</td>\n",
       "    </tr>\n",
       "    <tr>\n",
       "      <th>1</th>\n",
       "      <td>The Lovely Bones: A Novel</td>\n",
       "      <td>0.951515</td>\n",
       "      <td>32</td>\n",
       "      <td>100.000000</td>\n",
       "    </tr>\n",
       "    <tr>\n",
       "      <th>2</th>\n",
       "      <td>The Secret Life of Bees</td>\n",
       "      <td>0.766434</td>\n",
       "      <td>25</td>\n",
       "      <td>96.153846</td>\n",
       "    </tr>\n",
       "    <tr>\n",
       "      <th>3</th>\n",
       "      <td>The Red Tent (Bestselling Backlist)</td>\n",
       "      <td>0.616364</td>\n",
       "      <td>19</td>\n",
       "      <td>95.000000</td>\n",
       "    </tr>\n",
       "    <tr>\n",
       "      <th>4</th>\n",
       "      <td>Life of Pi</td>\n",
       "      <td>0.587879</td>\n",
       "      <td>17</td>\n",
       "      <td>100.000000</td>\n",
       "    </tr>\n",
       "    <tr>\n",
       "      <th>...</th>\n",
       "      <td>...</td>\n",
       "      <td>...</td>\n",
       "      <td>...</td>\n",
       "      <td>...</td>\n",
       "    </tr>\n",
       "    <tr>\n",
       "      <th>86</th>\n",
       "      <td>Pay It Forward</td>\n",
       "      <td>0.345455</td>\n",
       "      <td>7</td>\n",
       "      <td>100.000000</td>\n",
       "    </tr>\n",
       "    <tr>\n",
       "      <th>72</th>\n",
       "      <td>The Queen of the Damned (Vampire Chronicles (P...</td>\n",
       "      <td>0.345455</td>\n",
       "      <td>7</td>\n",
       "      <td>100.000000</td>\n",
       "    </tr>\n",
       "    <tr>\n",
       "      <th>87</th>\n",
       "      <td>Confessions of a Shopaholic (Summer Display Op...</td>\n",
       "      <td>0.345455</td>\n",
       "      <td>7</td>\n",
       "      <td>100.000000</td>\n",
       "    </tr>\n",
       "    <tr>\n",
       "      <th>93</th>\n",
       "      <td>The Last Precinct</td>\n",
       "      <td>0.345455</td>\n",
       "      <td>7</td>\n",
       "      <td>100.000000</td>\n",
       "    </tr>\n",
       "    <tr>\n",
       "      <th>76</th>\n",
       "      <td>A Walk to Remember</td>\n",
       "      <td>0.345455</td>\n",
       "      <td>7</td>\n",
       "      <td>100.000000</td>\n",
       "    </tr>\n",
       "  </tbody>\n",
       "</table>\n",
       "<p>100 rows × 4 columns</p>\n",
       "</div>"
      ],
      "text/plain": [
       "                                           Book-Title     Score  \\\n",
       "0                                 Angels &amp; Demons  1.000000   \n",
       "1                           The Lovely Bones: A Novel  0.951515   \n",
       "2                             The Secret Life of Bees  0.766434   \n",
       "3                 The Red Tent (Bestselling Backlist)  0.616364   \n",
       "4                                          Life of Pi  0.587879   \n",
       "..                                                ...       ...   \n",
       "86                                     Pay It Forward  0.345455   \n",
       "72  The Queen of the Damned (Vampire Chronicles (P...  0.345455   \n",
       "87  Confessions of a Shopaholic (Summer Display Op...  0.345455   \n",
       "93                                  The Last Precinct  0.345455   \n",
       "76                                 A Walk to Remember  0.345455   \n",
       "\n",
       "    Count_recommend  Recommendation_Percentage  \n",
       "0                34                 100.000000  \n",
       "1                32                 100.000000  \n",
       "2                25                  96.153846  \n",
       "3                19                  95.000000  \n",
       "4                17                 100.000000  \n",
       "..              ...                        ...  \n",
       "86                7                 100.000000  \n",
       "72                7                 100.000000  \n",
       "87                7                 100.000000  \n",
       "93                7                 100.000000  \n",
       "76                7                 100.000000  \n",
       "\n",
       "[100 rows x 4 columns]"
      ]
     },
     "execution_count": 44,
     "metadata": {},
     "output_type": "execute_result"
    }
   ],
   "source": [
    "rank_books(merge_reccomendations, count_col=\"Count_recommend\", percent_col=\"Recommendation_Percentage\", top_n=100, w1=0.8, w2=0.2)"
   ]
  },
  {
   "cell_type": "code",
   "execution_count": null,
   "metadata": {},
   "outputs": [],
   "source": []
  }
 ],
 "metadata": {
  "kernelspec": {
   "display_name": ".venv",
   "language": "python",
   "name": "python3"
  },
  "language_info": {
   "codemirror_mode": {
    "name": "ipython",
    "version": 3
   },
   "file_extension": ".py",
   "mimetype": "text/x-python",
   "name": "python",
   "nbconvert_exporter": "python",
   "pygments_lexer": "ipython3",
   "version": "3.11.9"
  }
 },
 "nbformat": 4,
 "nbformat_minor": 2
}
