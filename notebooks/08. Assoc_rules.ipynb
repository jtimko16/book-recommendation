{
 "cells": [
  {
   "cell_type": "markdown",
   "metadata": {},
   "source": [
    "### Baseline model for predicting reccomended book"
   ]
  },
  {
   "cell_type": "code",
   "execution_count": 110,
   "metadata": {},
   "outputs": [],
   "source": [
    "import pandas as pd\n",
    "import numpy as np\n",
    "import xgboost as xgb\n",
    "from sklearn.model_selection import train_test_split\n",
    "from imblearn.over_sampling import SMOTE\n"
   ]
  },
  {
   "cell_type": "markdown",
   "metadata": {},
   "source": [
    "### Import dataset, split into train/val/test"
   ]
  },
  {
   "cell_type": "code",
   "execution_count": 111,
   "metadata": {},
   "outputs": [
    {
     "data": {
      "text/html": [
       "<div>\n",
       "<style scoped>\n",
       "    .dataframe tbody tr th:only-of-type {\n",
       "        vertical-align: middle;\n",
       "    }\n",
       "\n",
       "    .dataframe tbody tr th {\n",
       "        vertical-align: top;\n",
       "    }\n",
       "\n",
       "    .dataframe thead th {\n",
       "        text-align: right;\n",
       "    }\n",
       "</style>\n",
       "<table border=\"1\" class=\"dataframe\">\n",
       "  <thead>\n",
       "    <tr style=\"text-align: right;\">\n",
       "      <th></th>\n",
       "      <th>User-ID</th>\n",
       "      <th>Age</th>\n",
       "      <th>City</th>\n",
       "      <th>Region/State</th>\n",
       "      <th>Country</th>\n",
       "      <th>Age_Missing</th>\n",
       "      <th>ISBN</th>\n",
       "      <th>Book-Rating</th>\n",
       "      <th>Rating_Categ</th>\n",
       "      <th>Book-Title</th>\n",
       "      <th>Book-Author</th>\n",
       "      <th>Year-Of-Publication</th>\n",
       "      <th>Publisher</th>\n",
       "    </tr>\n",
       "  </thead>\n",
       "  <tbody>\n",
       "    <tr>\n",
       "      <th>0</th>\n",
       "      <td>2</td>\n",
       "      <td>18.0</td>\n",
       "      <td>stockton</td>\n",
       "      <td>california</td>\n",
       "      <td>usa</td>\n",
       "      <td>0</td>\n",
       "      <td>0195153448</td>\n",
       "      <td>0</td>\n",
       "      <td>Not rated</td>\n",
       "      <td>Classical Mythology</td>\n",
       "      <td>Mark P. O. Morford</td>\n",
       "      <td>2002.0</td>\n",
       "      <td>Oxford University Press</td>\n",
       "    </tr>\n",
       "    <tr>\n",
       "      <th>1</th>\n",
       "      <td>7</td>\n",
       "      <td>-1.0</td>\n",
       "      <td>washington</td>\n",
       "      <td>dc</td>\n",
       "      <td>usa</td>\n",
       "      <td>1</td>\n",
       "      <td>034542252</td>\n",
       "      <td>0</td>\n",
       "      <td>Not rated</td>\n",
       "      <td>NaN</td>\n",
       "      <td>NaN</td>\n",
       "      <td>NaN</td>\n",
       "      <td>NaN</td>\n",
       "    </tr>\n",
       "    <tr>\n",
       "      <th>2</th>\n",
       "      <td>8</td>\n",
       "      <td>-1.0</td>\n",
       "      <td>timmins</td>\n",
       "      <td>ontario</td>\n",
       "      <td>canada</td>\n",
       "      <td>1</td>\n",
       "      <td>0002005018</td>\n",
       "      <td>5</td>\n",
       "      <td>Avarege (4-5)</td>\n",
       "      <td>Clara Callan</td>\n",
       "      <td>Richard Bruce Wright</td>\n",
       "      <td>2001.0</td>\n",
       "      <td>HarperFlamingo Canada</td>\n",
       "    </tr>\n",
       "    <tr>\n",
       "      <th>3</th>\n",
       "      <td>8</td>\n",
       "      <td>-1.0</td>\n",
       "      <td>timmins</td>\n",
       "      <td>ontario</td>\n",
       "      <td>canada</td>\n",
       "      <td>1</td>\n",
       "      <td>0060973129</td>\n",
       "      <td>0</td>\n",
       "      <td>Not rated</td>\n",
       "      <td>Decision in Normandy</td>\n",
       "      <td>Carlo D'Este</td>\n",
       "      <td>1991.0</td>\n",
       "      <td>HarperPerennial</td>\n",
       "    </tr>\n",
       "    <tr>\n",
       "      <th>4</th>\n",
       "      <td>8</td>\n",
       "      <td>-1.0</td>\n",
       "      <td>timmins</td>\n",
       "      <td>ontario</td>\n",
       "      <td>canada</td>\n",
       "      <td>1</td>\n",
       "      <td>0374157065</td>\n",
       "      <td>0</td>\n",
       "      <td>Not rated</td>\n",
       "      <td>Flu: The Story of the Great Influenza Pandemic...</td>\n",
       "      <td>Gina Bari Kolata</td>\n",
       "      <td>1999.0</td>\n",
       "      <td>Farrar Straus Giroux</td>\n",
       "    </tr>\n",
       "  </tbody>\n",
       "</table>\n",
       "</div>"
      ],
      "text/plain": [
       "   User-ID   Age        City Region/State Country  Age_Missing        ISBN  \\\n",
       "0        2  18.0    stockton   california     usa            0  0195153448   \n",
       "1        7  -1.0  washington           dc     usa            1   034542252   \n",
       "2        8  -1.0     timmins      ontario  canada            1  0002005018   \n",
       "3        8  -1.0     timmins      ontario  canada            1  0060973129   \n",
       "4        8  -1.0     timmins      ontario  canada            1  0374157065   \n",
       "\n",
       "   Book-Rating   Rating_Categ  \\\n",
       "0            0      Not rated   \n",
       "1            0      Not rated   \n",
       "2            5  Avarege (4-5)   \n",
       "3            0      Not rated   \n",
       "4            0      Not rated   \n",
       "\n",
       "                                          Book-Title           Book-Author  \\\n",
       "0                                Classical Mythology    Mark P. O. Morford   \n",
       "1                                                NaN                   NaN   \n",
       "2                                       Clara Callan  Richard Bruce Wright   \n",
       "3                               Decision in Normandy          Carlo D'Este   \n",
       "4  Flu: The Story of the Great Influenza Pandemic...      Gina Bari Kolata   \n",
       "\n",
       "   Year-Of-Publication                Publisher  \n",
       "0               2002.0  Oxford University Press  \n",
       "1                  NaN                      NaN  \n",
       "2               2001.0    HarperFlamingo Canada  \n",
       "3               1991.0          HarperPerennial  \n",
       "4               1999.0     Farrar Straus Giroux  "
      ]
     },
     "execution_count": 111,
     "metadata": {},
     "output_type": "execute_result"
    }
   ],
   "source": [
    "df = pd.read_csv('model_data/model_data_wo_eXtern.csv')\n",
    "\n",
    "df.head(5)"
   ]
  },
  {
   "cell_type": "markdown",
   "metadata": {},
   "source": [
    "### Remove not rated"
   ]
  },
  {
   "cell_type": "code",
   "execution_count": 112,
   "metadata": {},
   "outputs": [
    {
     "data": {
      "text/plain": [
       "Rating_Categ\n",
       "Not rated           716109\n",
       "Excellent (8-10)    249887\n",
       "Good (6-7)          113381\n",
       "Avarege (4-5)        59878\n",
       "Bad (1-3)            10525\n",
       "Name: count, dtype: int64"
      ]
     },
     "execution_count": 112,
     "metadata": {},
     "output_type": "execute_result"
    }
   ],
   "source": [
    "### Unique values and counts from rating_categ\n",
    "df['Rating_Categ'].value_counts()"
   ]
  },
  {
   "cell_type": "code",
   "execution_count": 113,
   "metadata": {},
   "outputs": [
    {
     "data": {
      "text/plain": [
       "Recommend\n",
       "0    823436\n",
       "1    326344\n",
       "Name: count, dtype: int64"
      ]
     },
     "execution_count": 113,
     "metadata": {},
     "output_type": "execute_result"
    }
   ],
   "source": [
    "### Create a new binary category for rating (everything above 8 is 1, otherwise 0)\n",
    "\n",
    "df['Recommend'] = np.where(df['Book-Rating'] >= 7, 1, 0)\n",
    "\n",
    "df['Not_Recommend'] = np.where((df['Book-Rating'] <= 6) & (df['Book-Rating'] > 0), 1, 0)\n",
    "df['Recommend'].value_counts()"
   ]
  },
  {
   "cell_type": "code",
   "execution_count": 114,
   "metadata": {},
   "outputs": [
    {
     "data": {
      "text/plain": [
       "Not_Recommend\n",
       "0    1042453\n",
       "1     107327\n",
       "Name: count, dtype: int64"
      ]
     },
     "execution_count": 114,
     "metadata": {},
     "output_type": "execute_result"
    }
   ],
   "source": [
    "df['Not_Recommend'].value_counts()"
   ]
  },
  {
   "cell_type": "code",
   "execution_count": null,
   "metadata": {},
   "outputs": [],
   "source": []
  },
  {
   "cell_type": "markdown",
   "metadata": {},
   "source": [
    "Split into train/test/val"
   ]
  },
  {
   "cell_type": "markdown",
   "metadata": {},
   "source": [
    "Select features and targets"
   ]
  },
  {
   "cell_type": "code",
   "execution_count": 115,
   "metadata": {},
   "outputs": [],
   "source": [
    "#features = ['Age', 'City', 'Region/State', 'Country', 'Age_Missing','Year-Of-Publication']\n",
    "features = ['Age', 'Age_Missing','Year-Of-Publication']\n",
    "target_class = 'Recommend'\n",
    "target_reg = 'Book-Rating'"
   ]
  },
  {
   "cell_type": "markdown",
   "metadata": {},
   "source": [
    "### Association rules"
   ]
  },
  {
   "cell_type": "markdown",
   "metadata": {},
   "source": []
  },
  {
   "cell_type": "code",
   "execution_count": 116,
   "metadata": {},
   "outputs": [
    {
     "name": "stdout",
     "output_type": "stream",
     "text": [
      "(1149780, 15)\n"
     ]
    },
    {
     "data": {
      "text/plain": [
       "Index(['User-ID', 'Age', 'City', 'Region/State', 'Country', 'Age_Missing',\n",
       "       'ISBN', 'Book-Rating', 'Rating_Categ', 'Book-Title', 'Book-Author',\n",
       "       'Year-Of-Publication', 'Publisher', 'Recommend', 'Not_Recommend'],\n",
       "      dtype='object')"
      ]
     },
     "execution_count": 116,
     "metadata": {},
     "output_type": "execute_result"
    }
   ],
   "source": [
    "print(df.shape)\n",
    "df.columns"
   ]
  },
  {
   "cell_type": "code",
   "execution_count": 117,
   "metadata": {},
   "outputs": [
    {
     "name": "stdout",
     "output_type": "stream",
     "text": [
      "Unique User-IDs: 105283\n",
      "Unique ISBNs: 340556\n"
     ]
    }
   ],
   "source": [
    "### Unique User-IDs\n",
    "user_ids = len(df['User-ID'].unique())\n",
    "print(f\"Unique User-IDs: {user_ids}\")\n",
    "\n",
    "### Unique ISBNs\n",
    "ISBNs = len(df['ISBN'].unique())\n",
    "print(f\"Unique ISBNs: {ISBNs}\")"
   ]
  },
  {
   "cell_type": "code",
   "execution_count": 118,
   "metadata": {},
   "outputs": [],
   "source": [
    "### Filter boooks"
   ]
  },
  {
   "cell_type": "code",
   "execution_count": 119,
   "metadata": {},
   "outputs": [
    {
     "name": "stdout",
     "output_type": "stream",
     "text": [
      "Unique ISBNs: 1000\n"
     ]
    }
   ],
   "source": [
    "# Get the top N most rated books\n",
    "n_books = 1000\n",
    "\n",
    "top_n_books = df.groupby('ISBN').size().sort_values(ascending=False).head(1000).index\n",
    "\n",
    "# Filter the DataFrame to include only the top N books\n",
    "subset_df_books = df[df['ISBN'].isin(top_n_books)].copy()\n",
    "\n",
    "\n",
    "print(f\"Unique ISBNs: {len(subset_df_books['ISBN'].unique())}\")\n"
   ]
  },
  {
   "cell_type": "markdown",
   "metadata": {},
   "source": [
    "Filter user"
   ]
  },
  {
   "cell_type": "code",
   "execution_count": 120,
   "metadata": {},
   "outputs": [
    {
     "name": "stdout",
     "output_type": "stream",
     "text": [
      "Unique User-IDs: 5498\n",
      "Unique ISBNs: 1000\n"
     ]
    }
   ],
   "source": [
    "# Step 1: Count the number of ratings per user\n",
    "user_counts = df.groupby('User-ID').size()\n",
    "\n",
    "n = 25\n",
    "# Step 2: Filter users who have at least 50 ratings (or any threshold)\n",
    "users_with_at_least_n_ratings = user_counts[user_counts >= 25].index\n",
    "\n",
    "subset_df_book_users = subset_df_books[subset_df_books['User-ID'].isin(users_with_at_least_n_ratings)]\n",
    "\n",
    "print(f\"Unique User-IDs: {len(subset_df_book_users['User-ID'].unique())}\")\n",
    "print(f\"Unique ISBNs: {len(subset_df_book_users['ISBN'].unique())}\")\n"
   ]
  },
  {
   "cell_type": "code",
   "execution_count": 121,
   "metadata": {},
   "outputs": [],
   "source": [
    "user_book_matrix = subset_df_book_users.pivot(index='User-ID', columns='ISBN', values='Recommend').fillna(0)"
   ]
  },
  {
   "cell_type": "code",
   "execution_count": 122,
   "metadata": {},
   "outputs": [
    {
     "data": {
      "text/html": [
       "<div>\n",
       "<style scoped>\n",
       "    .dataframe tbody tr th:only-of-type {\n",
       "        vertical-align: middle;\n",
       "    }\n",
       "\n",
       "    .dataframe tbody tr th {\n",
       "        vertical-align: top;\n",
       "    }\n",
       "\n",
       "    .dataframe thead th {\n",
       "        text-align: right;\n",
       "    }\n",
       "</style>\n",
       "<table border=\"1\" class=\"dataframe\">\n",
       "  <thead>\n",
       "    <tr style=\"text-align: right;\">\n",
       "      <th>ISBN</th>\n",
       "      <th>000649840X</th>\n",
       "      <th>002542730X</th>\n",
       "      <th>0060008032</th>\n",
       "      <th>0060096195</th>\n",
       "      <th>006016848X</th>\n",
       "      <th>0060173289</th>\n",
       "      <th>0060175400</th>\n",
       "      <th>0060188731</th>\n",
       "      <th>006019491X</th>\n",
       "      <th>0060199652</th>\n",
       "    </tr>\n",
       "    <tr>\n",
       "      <th>User-ID</th>\n",
       "      <th></th>\n",
       "      <th></th>\n",
       "      <th></th>\n",
       "      <th></th>\n",
       "      <th></th>\n",
       "      <th></th>\n",
       "      <th></th>\n",
       "      <th></th>\n",
       "      <th></th>\n",
       "      <th></th>\n",
       "    </tr>\n",
       "  </thead>\n",
       "  <tbody>\n",
       "    <tr>\n",
       "      <th>242</th>\n",
       "      <td>0.0</td>\n",
       "      <td>0.0</td>\n",
       "      <td>0.0</td>\n",
       "      <td>0.0</td>\n",
       "      <td>0.0</td>\n",
       "      <td>0.0</td>\n",
       "      <td>0.0</td>\n",
       "      <td>0.0</td>\n",
       "      <td>0.0</td>\n",
       "      <td>0.0</td>\n",
       "    </tr>\n",
       "    <tr>\n",
       "      <th>243</th>\n",
       "      <td>0.0</td>\n",
       "      <td>0.0</td>\n",
       "      <td>0.0</td>\n",
       "      <td>0.0</td>\n",
       "      <td>0.0</td>\n",
       "      <td>0.0</td>\n",
       "      <td>0.0</td>\n",
       "      <td>0.0</td>\n",
       "      <td>0.0</td>\n",
       "      <td>0.0</td>\n",
       "    </tr>\n",
       "    <tr>\n",
       "      <th>254</th>\n",
       "      <td>0.0</td>\n",
       "      <td>0.0</td>\n",
       "      <td>0.0</td>\n",
       "      <td>0.0</td>\n",
       "      <td>0.0</td>\n",
       "      <td>0.0</td>\n",
       "      <td>0.0</td>\n",
       "      <td>0.0</td>\n",
       "      <td>0.0</td>\n",
       "      <td>0.0</td>\n",
       "    </tr>\n",
       "    <tr>\n",
       "      <th>383</th>\n",
       "      <td>0.0</td>\n",
       "      <td>0.0</td>\n",
       "      <td>0.0</td>\n",
       "      <td>0.0</td>\n",
       "      <td>0.0</td>\n",
       "      <td>0.0</td>\n",
       "      <td>0.0</td>\n",
       "      <td>0.0</td>\n",
       "      <td>0.0</td>\n",
       "      <td>0.0</td>\n",
       "    </tr>\n",
       "    <tr>\n",
       "      <th>446</th>\n",
       "      <td>0.0</td>\n",
       "      <td>0.0</td>\n",
       "      <td>0.0</td>\n",
       "      <td>0.0</td>\n",
       "      <td>0.0</td>\n",
       "      <td>0.0</td>\n",
       "      <td>0.0</td>\n",
       "      <td>0.0</td>\n",
       "      <td>0.0</td>\n",
       "      <td>0.0</td>\n",
       "    </tr>\n",
       "    <tr>\n",
       "      <th>487</th>\n",
       "      <td>0.0</td>\n",
       "      <td>0.0</td>\n",
       "      <td>0.0</td>\n",
       "      <td>0.0</td>\n",
       "      <td>0.0</td>\n",
       "      <td>0.0</td>\n",
       "      <td>0.0</td>\n",
       "      <td>0.0</td>\n",
       "      <td>0.0</td>\n",
       "      <td>0.0</td>\n",
       "    </tr>\n",
       "    <tr>\n",
       "      <th>503</th>\n",
       "      <td>0.0</td>\n",
       "      <td>0.0</td>\n",
       "      <td>0.0</td>\n",
       "      <td>0.0</td>\n",
       "      <td>0.0</td>\n",
       "      <td>0.0</td>\n",
       "      <td>0.0</td>\n",
       "      <td>0.0</td>\n",
       "      <td>0.0</td>\n",
       "      <td>0.0</td>\n",
       "    </tr>\n",
       "    <tr>\n",
       "      <th>507</th>\n",
       "      <td>0.0</td>\n",
       "      <td>0.0</td>\n",
       "      <td>0.0</td>\n",
       "      <td>0.0</td>\n",
       "      <td>0.0</td>\n",
       "      <td>0.0</td>\n",
       "      <td>0.0</td>\n",
       "      <td>0.0</td>\n",
       "      <td>0.0</td>\n",
       "      <td>0.0</td>\n",
       "    </tr>\n",
       "    <tr>\n",
       "      <th>626</th>\n",
       "      <td>0.0</td>\n",
       "      <td>0.0</td>\n",
       "      <td>0.0</td>\n",
       "      <td>0.0</td>\n",
       "      <td>0.0</td>\n",
       "      <td>0.0</td>\n",
       "      <td>0.0</td>\n",
       "      <td>0.0</td>\n",
       "      <td>0.0</td>\n",
       "      <td>0.0</td>\n",
       "    </tr>\n",
       "    <tr>\n",
       "      <th>638</th>\n",
       "      <td>0.0</td>\n",
       "      <td>0.0</td>\n",
       "      <td>0.0</td>\n",
       "      <td>0.0</td>\n",
       "      <td>0.0</td>\n",
       "      <td>0.0</td>\n",
       "      <td>0.0</td>\n",
       "      <td>0.0</td>\n",
       "      <td>0.0</td>\n",
       "      <td>0.0</td>\n",
       "    </tr>\n",
       "  </tbody>\n",
       "</table>\n",
       "</div>"
      ],
      "text/plain": [
       "ISBN     000649840X  002542730X  0060008032  0060096195  006016848X  \\\n",
       "User-ID                                                               \n",
       "242             0.0         0.0         0.0         0.0         0.0   \n",
       "243             0.0         0.0         0.0         0.0         0.0   \n",
       "254             0.0         0.0         0.0         0.0         0.0   \n",
       "383             0.0         0.0         0.0         0.0         0.0   \n",
       "446             0.0         0.0         0.0         0.0         0.0   \n",
       "487             0.0         0.0         0.0         0.0         0.0   \n",
       "503             0.0         0.0         0.0         0.0         0.0   \n",
       "507             0.0         0.0         0.0         0.0         0.0   \n",
       "626             0.0         0.0         0.0         0.0         0.0   \n",
       "638             0.0         0.0         0.0         0.0         0.0   \n",
       "\n",
       "ISBN     0060173289  0060175400  0060188731  006019491X  0060199652  \n",
       "User-ID                                                              \n",
       "242             0.0         0.0         0.0         0.0         0.0  \n",
       "243             0.0         0.0         0.0         0.0         0.0  \n",
       "254             0.0         0.0         0.0         0.0         0.0  \n",
       "383             0.0         0.0         0.0         0.0         0.0  \n",
       "446             0.0         0.0         0.0         0.0         0.0  \n",
       "487             0.0         0.0         0.0         0.0         0.0  \n",
       "503             0.0         0.0         0.0         0.0         0.0  \n",
       "507             0.0         0.0         0.0         0.0         0.0  \n",
       "626             0.0         0.0         0.0         0.0         0.0  \n",
       "638             0.0         0.0         0.0         0.0         0.0  "
      ]
     },
     "execution_count": 122,
     "metadata": {},
     "output_type": "execute_result"
    }
   ],
   "source": [
    "user_book_matrix.iloc[0:10,0:10]"
   ]
  },
  {
   "cell_type": "code",
   "execution_count": 123,
   "metadata": {},
   "outputs": [
    {
     "data": {
      "text/plain": [
       "ISBN\n",
       "0316666343    281.0\n",
       "0385504209    228.0\n",
       "059035342X    165.0\n",
       "0312195516    159.0\n",
       "043935806X    139.0\n",
       "0679781587    138.0\n",
       "0142001740    136.0\n",
       "0446672211    131.0\n",
       "0060928336    126.0\n",
       "0446310786    122.0\n",
       "dtype: float64"
      ]
     },
     "execution_count": 123,
     "metadata": {},
     "output_type": "execute_result"
    }
   ],
   "source": [
    "user_book_matrix.sum().sort_values(ascending=False).head(10)"
   ]
  },
  {
   "cell_type": "markdown",
   "metadata": {},
   "source": [
    "### Simple reccomnendation system"
   ]
  },
  {
   "cell_type": "code",
   "execution_count": null,
   "metadata": {},
   "outputs": [],
   "source": [
    "def recommend_books(selected_ISBN, df):\n",
    "    \"\"\"Finds books liked by users who also liked the selected ISBN.\"\"\"\n",
    "    \n",
    "    # Step 1: Find users who liked the selected book\n",
    "    users_who_liked = df[(df['ISBN'] == selected_ISBN) & (df['Recommend'])]\n",
    "    users_list = users_who_liked['User-ID'].unique()\n",
    "\n",
    "    # Step 2: Find other books these users also liked\n",
    "    other_books = df[(df['User-ID'].isin(users_list)) & (df['Recommend']) & (df['ISBN'] != selected_ISBN)]\n",
    "\n",
    "    # Step 3: Count occurrences of each recommended book\n",
    "    book_counts = other_books['ISBN'].value_counts().reset_index()\n",
    "    book_counts.columns = ['ISBN', 'Count_recommend']\n",
    "\n",
    "    ## Look up book nammes\n",
    "    book_counts = book_counts.merge(df[['ISBN', 'Book-Title']].drop_duplicates(), how='left', left_on='ISBN', right_on='ISBN')\n",
    "\n",
    "\n",
    "  # *Step 5: Aggregate by book title** (summing counts for books with different ISBNs but the same title)\n",
    "    book_counts = book_counts.groupby('Book-Title', as_index=False).agg({'Count_recommend': 'sum'})\n",
    "\n",
    "    # Step 6: Sort by recommendation count\n",
    "    book_counts = book_counts.sort_values(by='Count_recommend', ascending=False)\n",
    "\n",
    "\n",
    "    return book_counts\n",
    "\n"
   ]
  },
  {
   "cell_type": "code",
   "execution_count": 152,
   "metadata": {},
   "outputs": [],
   "source": [
    "def not_recommended_books(selected_ISBN, df):\n",
    "    \"\"\"Finds books not liked by users who also did not like the selected ISBN, aggregating by book title.\"\"\"\n",
    "    \n",
    "    # Step 1: Find users who did not recommend the selected book\n",
    "    users_who_disliked = df[(df['ISBN'] == selected_ISBN) & (df['Not_Recommend'])]\n",
    "    users_list = users_who_disliked['User-ID'].unique()\n",
    "\n",
    "    # Step 2: Find other books these users also did not like\n",
    "    other_books = df[(df['User-ID'].isin(users_list)) & (df['Not_Recommend']) & (df['ISBN'] != selected_ISBN)]\n",
    "\n",
    "    # Step 3: Count occurrences of each not recommended book (by ISBN)\n",
    "    book_counts = other_books['ISBN'].value_counts().reset_index()\n",
    "    book_counts.columns = ['ISBN', 'Count_not_recommend']\n",
    "\n",
    "    # Step 4: Merge to get book titles\n",
    "    book_counts = book_counts.merge(df[['ISBN', 'Book-Title']].drop_duplicates(), how='left', on='ISBN')\n",
    "\n",
    "    # Step 5: Aggregate by book title (summing counts for books with different ISBNs but the same title)\n",
    "    book_counts = book_counts.groupby('Book-Title', as_index=False).agg({'Count_not_recommend': 'sum'})\n",
    "\n",
    "    # Step 6: Sort by not recommendation count\n",
    "    book_counts = book_counts.sort_values(by='Count_not_recommend', ascending=False)\n",
    "\n",
    "    return book_counts\n",
    "\n"
   ]
  },
  {
   "cell_type": "code",
   "execution_count": 153,
   "metadata": {},
   "outputs": [
    {
     "name": "stdout",
     "output_type": "stream",
     "text": [
      "Selected Book: Harry Potter and the Sorcerer's Stone (Harry Potter (Paperback))\n",
      "                                            Book-Title  Count_recommend\n",
      "248   Harry Potter and the Chamber of Secrets (Book 2)               69\n",
      "251  Harry Potter and the Prisoner of Azkaban (Book 3)               55\n",
      "249       Harry Potter and the Goblet of Fire (Book 4)               51\n",
      "250  Harry Potter and the Order of the Phoenix (Boo...               32\n",
      "100                              Bridget Jones's Diary               14\n",
      "..                                                 ...              ...\n",
      "53                                         Animal Farm                5\n",
      "600                            The God of Small Things                5\n",
      "203  Fast Food Nation: The Dark Side of the All-Ame...                5\n",
      "390         One for the Money (A Stephanie Plum Novel)                5\n",
      "113                   Charlotte's Web (Trophy Newbery)                5\n",
      "\n",
      "[100 rows x 2 columns]\n"
     ]
    }
   ],
   "source": [
    "# Example: User selects ISBN \"12345\"\n",
    "selected_book = \"059035342X\"\n",
    "\n",
    "### Look up book name for selected book\n",
    "selected_book_name = df[df['ISBN'] == selected_book]['Book-Title'].values[0]\n",
    "print(f\"Selected Book: {selected_book_name}\")\n",
    "\n",
    "recommendations = recommend_books(selected_book, subset_df_book_users)\n",
    "\n",
    "print(recommendations.head(100))"
   ]
  },
  {
   "cell_type": "code",
   "execution_count": 154,
   "metadata": {},
   "outputs": [
    {
     "name": "stdout",
     "output_type": "stream",
     "text": [
      "                                           Book-Title  Count_not_recommend\n",
      "14   Harry Potter and the Chamber of Secrets (Book 2)                    2\n",
      "42                               The Cradle Will Fall                    2\n",
      "0   A Beautiful Mind: The Life of Mathematical Gen...                    1\n",
      "3                                         Animal Farm                    1\n",
      "1                                      A Time to Kill                    1\n",
      "5                                             Beloved                    1\n",
      "6                                          Boy's Life                    1\n",
      "7                                    Call of the Wild                    1\n",
      "2                                  A Walk to Remember                    1\n",
      "8                                          Disclosure                    1\n"
     ]
    }
   ],
   "source": [
    "not_reccomendations = not_recommended_books(selected_book, subset_df_book_users)\n",
    "print(not_reccomendations.head(10))"
   ]
  },
  {
   "cell_type": "code",
   "execution_count": 157,
   "metadata": {},
   "outputs": [],
   "source": [
    "### Join the two dataframes by the ISBN\n",
    "merge_reccomendations = recommendations.merge(not_reccomendations, how='left', left_on='Book-Title', right_on='Book-Title').fillna(0)\n",
    "\n",
    "\n",
    "## Calculate reccomneded %%!\n",
    "merge_reccomendations['Recommendation_Percentage'] =100* merge_reccomendations['Count_recommend'] / (merge_reccomendations['Count_recommend'] + merge_reccomendations['Count_not_recommend'])\n"
   ]
  },
  {
   "cell_type": "code",
   "execution_count": 158,
   "metadata": {},
   "outputs": [
    {
     "data": {
      "text/html": [
       "<div>\n",
       "<style scoped>\n",
       "    .dataframe tbody tr th:only-of-type {\n",
       "        vertical-align: middle;\n",
       "    }\n",
       "\n",
       "    .dataframe tbody tr th {\n",
       "        vertical-align: top;\n",
       "    }\n",
       "\n",
       "    .dataframe thead th {\n",
       "        text-align: right;\n",
       "    }\n",
       "</style>\n",
       "<table border=\"1\" class=\"dataframe\">\n",
       "  <thead>\n",
       "    <tr style=\"text-align: right;\">\n",
       "      <th></th>\n",
       "      <th>Book-Title</th>\n",
       "      <th>Count_recommend</th>\n",
       "      <th>Count_not_recommend</th>\n",
       "      <th>Recommendation_Percentage</th>\n",
       "    </tr>\n",
       "  </thead>\n",
       "  <tbody>\n",
       "    <tr>\n",
       "      <th>0</th>\n",
       "      <td>Harry Potter and the Chamber of Secrets (Book 2)</td>\n",
       "      <td>69</td>\n",
       "      <td>2.0</td>\n",
       "      <td>97.183099</td>\n",
       "    </tr>\n",
       "    <tr>\n",
       "      <th>1</th>\n",
       "      <td>Harry Potter and the Prisoner of Azkaban (Book 3)</td>\n",
       "      <td>55</td>\n",
       "      <td>0.0</td>\n",
       "      <td>100.000000</td>\n",
       "    </tr>\n",
       "    <tr>\n",
       "      <th>2</th>\n",
       "      <td>Harry Potter and the Goblet of Fire (Book 4)</td>\n",
       "      <td>51</td>\n",
       "      <td>0.0</td>\n",
       "      <td>100.000000</td>\n",
       "    </tr>\n",
       "    <tr>\n",
       "      <th>3</th>\n",
       "      <td>Harry Potter and the Order of the Phoenix (Boo...</td>\n",
       "      <td>32</td>\n",
       "      <td>0.0</td>\n",
       "      <td>100.000000</td>\n",
       "    </tr>\n",
       "    <tr>\n",
       "      <th>4</th>\n",
       "      <td>Bridget Jones's Diary</td>\n",
       "      <td>14</td>\n",
       "      <td>0.0</td>\n",
       "      <td>100.000000</td>\n",
       "    </tr>\n",
       "    <tr>\n",
       "      <th>...</th>\n",
       "      <td>...</td>\n",
       "      <td>...</td>\n",
       "      <td>...</td>\n",
       "      <td>...</td>\n",
       "    </tr>\n",
       "    <tr>\n",
       "      <th>795</th>\n",
       "      <td>Vinegar Hill (Oprah's Book Club (Paperback))</td>\n",
       "      <td>1</td>\n",
       "      <td>0.0</td>\n",
       "      <td>100.000000</td>\n",
       "    </tr>\n",
       "    <tr>\n",
       "      <th>796</th>\n",
       "      <td>Violets Are Blue</td>\n",
       "      <td>1</td>\n",
       "      <td>0.0</td>\n",
       "      <td>100.000000</td>\n",
       "    </tr>\n",
       "    <tr>\n",
       "      <th>797</th>\n",
       "      <td>Visions of Sugar Plums</td>\n",
       "      <td>1</td>\n",
       "      <td>0.0</td>\n",
       "      <td>100.000000</td>\n",
       "    </tr>\n",
       "    <tr>\n",
       "      <th>798</th>\n",
       "      <td>Waiting (Vintage International)</td>\n",
       "      <td>1</td>\n",
       "      <td>0.0</td>\n",
       "      <td>100.000000</td>\n",
       "    </tr>\n",
       "    <tr>\n",
       "      <th>799</th>\n",
       "      <td>Waiting to Exhale</td>\n",
       "      <td>1</td>\n",
       "      <td>0.0</td>\n",
       "      <td>100.000000</td>\n",
       "    </tr>\n",
       "  </tbody>\n",
       "</table>\n",
       "<p>800 rows × 4 columns</p>\n",
       "</div>"
      ],
      "text/plain": [
       "                                            Book-Title  Count_recommend  \\\n",
       "0     Harry Potter and the Chamber of Secrets (Book 2)               69   \n",
       "1    Harry Potter and the Prisoner of Azkaban (Book 3)               55   \n",
       "2         Harry Potter and the Goblet of Fire (Book 4)               51   \n",
       "3    Harry Potter and the Order of the Phoenix (Boo...               32   \n",
       "4                                Bridget Jones's Diary               14   \n",
       "..                                                 ...              ...   \n",
       "795       Vinegar Hill (Oprah's Book Club (Paperback))                1   \n",
       "796                                   Violets Are Blue                1   \n",
       "797                             Visions of Sugar Plums                1   \n",
       "798                    Waiting (Vintage International)                1   \n",
       "799                                  Waiting to Exhale                1   \n",
       "\n",
       "     Count_not_recommend  Recommendation_Percentage  \n",
       "0                    2.0                  97.183099  \n",
       "1                    0.0                 100.000000  \n",
       "2                    0.0                 100.000000  \n",
       "3                    0.0                 100.000000  \n",
       "4                    0.0                 100.000000  \n",
       "..                   ...                        ...  \n",
       "795                  0.0                 100.000000  \n",
       "796                  0.0                 100.000000  \n",
       "797                  0.0                 100.000000  \n",
       "798                  0.0                 100.000000  \n",
       "799                  0.0                 100.000000  \n",
       "\n",
       "[800 rows x 4 columns]"
      ]
     },
     "execution_count": 158,
     "metadata": {},
     "output_type": "execute_result"
    }
   ],
   "source": [
    "merge_reccomendations\n",
    "\n"
   ]
  },
  {
   "cell_type": "code",
   "execution_count": null,
   "metadata": {},
   "outputs": [],
   "source": [
    "### Recco"
   ]
  },
  {
   "cell_type": "markdown",
   "metadata": {},
   "source": [
    "## Objective function"
   ]
  },
  {
   "cell_type": "code",
   "execution_count": 160,
   "metadata": {},
   "outputs": [],
   "source": [
    "def rank_books(df, count_col=\"Count_Recommend\", percent_col=\"Percent_Recommend\", top_n=10, w1=0.5, w2=0.5):\n",
    "    \"\"\"Ranks books based on Count_Recommend and % Recommendation.\"\"\"\n",
    "    \n",
    "    # Normalize values between 0 and 1\n",
    "    df[count_col + \"_norm\"] = (df[count_col] - df[count_col].min()) / (df[count_col].max() - df[count_col].min())\n",
    "    df[percent_col + \"_norm\"] = (df[percent_col] - df[percent_col].min()) / (df[percent_col].max() - df[percent_col].min())\n",
    "\n",
    "    # Compute score\n",
    "    df[\"Score\"] = w1 * df[count_col + \"_norm\"] + w2 * df[percent_col + \"_norm\"]\n",
    "\n",
    "    # Select top books\n",
    "    top_books = df.sort_values(by=\"Score\", ascending=False).head(top_n)\n",
    "\n",
    "    return top_books[[\"Book-Title\", \"Score\", count_col, percent_col]]"
   ]
  },
  {
   "cell_type": "code",
   "execution_count": 161,
   "metadata": {},
   "outputs": [
    {
     "data": {
      "text/html": [
       "<div>\n",
       "<style scoped>\n",
       "    .dataframe tbody tr th:only-of-type {\n",
       "        vertical-align: middle;\n",
       "    }\n",
       "\n",
       "    .dataframe tbody tr th {\n",
       "        vertical-align: top;\n",
       "    }\n",
       "\n",
       "    .dataframe thead th {\n",
       "        text-align: right;\n",
       "    }\n",
       "</style>\n",
       "<table border=\"1\" class=\"dataframe\">\n",
       "  <thead>\n",
       "    <tr style=\"text-align: right;\">\n",
       "      <th></th>\n",
       "      <th>Book-Title</th>\n",
       "      <th>Score</th>\n",
       "      <th>Count_recommend</th>\n",
       "      <th>Recommendation_Percentage</th>\n",
       "    </tr>\n",
       "  </thead>\n",
       "  <tbody>\n",
       "    <tr>\n",
       "      <th>1</th>\n",
       "      <td>Harry Potter and the Prisoner of Azkaban (Book 3)</td>\n",
       "      <td>0.958824</td>\n",
       "      <td>55</td>\n",
       "      <td>100.000000</td>\n",
       "    </tr>\n",
       "    <tr>\n",
       "      <th>0</th>\n",
       "      <td>Harry Potter and the Chamber of Secrets (Book 2)</td>\n",
       "      <td>0.954930</td>\n",
       "      <td>69</td>\n",
       "      <td>97.183099</td>\n",
       "    </tr>\n",
       "    <tr>\n",
       "      <th>2</th>\n",
       "      <td>Harry Potter and the Goblet of Fire (Book 4)</td>\n",
       "      <td>0.947059</td>\n",
       "      <td>51</td>\n",
       "      <td>100.000000</td>\n",
       "    </tr>\n",
       "    <tr>\n",
       "      <th>3</th>\n",
       "      <td>Harry Potter and the Order of the Phoenix (Boo...</td>\n",
       "      <td>0.891176</td>\n",
       "      <td>32</td>\n",
       "      <td>100.000000</td>\n",
       "    </tr>\n",
       "    <tr>\n",
       "      <th>4</th>\n",
       "      <td>Bridget Jones's Diary</td>\n",
       "      <td>0.838235</td>\n",
       "      <td>14</td>\n",
       "      <td>100.000000</td>\n",
       "    </tr>\n",
       "    <tr>\n",
       "      <th>6</th>\n",
       "      <td>The Da Vinci Code</td>\n",
       "      <td>0.835294</td>\n",
       "      <td>13</td>\n",
       "      <td>100.000000</td>\n",
       "    </tr>\n",
       "    <tr>\n",
       "      <th>9</th>\n",
       "      <td>The Joy Luck Club</td>\n",
       "      <td>0.832353</td>\n",
       "      <td>12</td>\n",
       "      <td>100.000000</td>\n",
       "    </tr>\n",
       "    <tr>\n",
       "      <th>12</th>\n",
       "      <td>The Secret Life of Bees</td>\n",
       "      <td>0.829412</td>\n",
       "      <td>11</td>\n",
       "      <td>100.000000</td>\n",
       "    </tr>\n",
       "    <tr>\n",
       "      <th>10</th>\n",
       "      <td>The Red Tent (Bestselling Backlist)</td>\n",
       "      <td>0.829412</td>\n",
       "      <td>11</td>\n",
       "      <td>100.000000</td>\n",
       "    </tr>\n",
       "    <tr>\n",
       "      <th>14</th>\n",
       "      <td>The Nanny Diaries: A Novel</td>\n",
       "      <td>0.829412</td>\n",
       "      <td>11</td>\n",
       "      <td>100.000000</td>\n",
       "    </tr>\n",
       "  </tbody>\n",
       "</table>\n",
       "</div>"
      ],
      "text/plain": [
       "                                           Book-Title     Score  \\\n",
       "1   Harry Potter and the Prisoner of Azkaban (Book 3)  0.958824   \n",
       "0    Harry Potter and the Chamber of Secrets (Book 2)  0.954930   \n",
       "2        Harry Potter and the Goblet of Fire (Book 4)  0.947059   \n",
       "3   Harry Potter and the Order of the Phoenix (Boo...  0.891176   \n",
       "4                               Bridget Jones's Diary  0.838235   \n",
       "6                                   The Da Vinci Code  0.835294   \n",
       "9                                   The Joy Luck Club  0.832353   \n",
       "12                            The Secret Life of Bees  0.829412   \n",
       "10                The Red Tent (Bestselling Backlist)  0.829412   \n",
       "14                         The Nanny Diaries: A Novel  0.829412   \n",
       "\n",
       "    Count_recommend  Recommendation_Percentage  \n",
       "1                55                 100.000000  \n",
       "0                69                  97.183099  \n",
       "2                51                 100.000000  \n",
       "3                32                 100.000000  \n",
       "4                14                 100.000000  \n",
       "6                13                 100.000000  \n",
       "9                12                 100.000000  \n",
       "12               11                 100.000000  \n",
       "10               11                 100.000000  \n",
       "14               11                 100.000000  "
      ]
     },
     "execution_count": 161,
     "metadata": {},
     "output_type": "execute_result"
    }
   ],
   "source": [
    "rank_books(merge_reccomendations, count_col=\"Count_recommend\", percent_col=\"Recommendation_Percentage\", top_n=10, w1=0.2, w2=0.8)"
   ]
  },
  {
   "cell_type": "code",
   "execution_count": null,
   "metadata": {},
   "outputs": [],
   "source": []
  }
 ],
 "metadata": {
  "kernelspec": {
   "display_name": ".venv",
   "language": "python",
   "name": "python3"
  },
  "language_info": {
   "codemirror_mode": {
    "name": "ipython",
    "version": 3
   },
   "file_extension": ".py",
   "mimetype": "text/x-python",
   "name": "python",
   "nbconvert_exporter": "python",
   "pygments_lexer": "ipython3",
   "version": "3.11.9"
  }
 },
 "nbformat": 4,
 "nbformat_minor": 2
}
