{
 "cells": [
  {
   "cell_type": "markdown",
   "metadata": {},
   "source": [
    "### Baseline model for predicting reccomended book"
   ]
  },
  {
   "cell_type": "code",
   "execution_count": 41,
   "metadata": {},
   "outputs": [],
   "source": [
    "import pandas as pd\n",
    "import numpy as np\n",
    "import xgboost as xgb\n",
    "from sklearn.model_selection import train_test_split\n",
    "from imblearn.over_sampling import SMOTE\n"
   ]
  },
  {
   "cell_type": "markdown",
   "metadata": {},
   "source": [
    "### Import dataset, split into train/val/test"
   ]
  },
  {
   "cell_type": "code",
   "execution_count": 42,
   "metadata": {},
   "outputs": [
    {
     "data": {
      "text/html": [
       "<div>\n",
       "<style scoped>\n",
       "    .dataframe tbody tr th:only-of-type {\n",
       "        vertical-align: middle;\n",
       "    }\n",
       "\n",
       "    .dataframe tbody tr th {\n",
       "        vertical-align: top;\n",
       "    }\n",
       "\n",
       "    .dataframe thead th {\n",
       "        text-align: right;\n",
       "    }\n",
       "</style>\n",
       "<table border=\"1\" class=\"dataframe\">\n",
       "  <thead>\n",
       "    <tr style=\"text-align: right;\">\n",
       "      <th></th>\n",
       "      <th>User-ID</th>\n",
       "      <th>Age</th>\n",
       "      <th>City</th>\n",
       "      <th>Region/State</th>\n",
       "      <th>Country</th>\n",
       "      <th>Age_Missing</th>\n",
       "      <th>ISBN</th>\n",
       "      <th>Book-Rating</th>\n",
       "      <th>Rating_Categ</th>\n",
       "      <th>Book-Title</th>\n",
       "      <th>Book-Author</th>\n",
       "      <th>Year-Of-Publication</th>\n",
       "      <th>Publisher</th>\n",
       "    </tr>\n",
       "  </thead>\n",
       "  <tbody>\n",
       "    <tr>\n",
       "      <th>0</th>\n",
       "      <td>2</td>\n",
       "      <td>18.0</td>\n",
       "      <td>stockton</td>\n",
       "      <td>california</td>\n",
       "      <td>usa</td>\n",
       "      <td>0</td>\n",
       "      <td>0195153448</td>\n",
       "      <td>0</td>\n",
       "      <td>Not rated</td>\n",
       "      <td>Classical Mythology</td>\n",
       "      <td>Mark P. O. Morford</td>\n",
       "      <td>2002.0</td>\n",
       "      <td>Oxford University Press</td>\n",
       "    </tr>\n",
       "    <tr>\n",
       "      <th>1</th>\n",
       "      <td>7</td>\n",
       "      <td>-1.0</td>\n",
       "      <td>washington</td>\n",
       "      <td>dc</td>\n",
       "      <td>usa</td>\n",
       "      <td>1</td>\n",
       "      <td>034542252</td>\n",
       "      <td>0</td>\n",
       "      <td>Not rated</td>\n",
       "      <td>NaN</td>\n",
       "      <td>NaN</td>\n",
       "      <td>NaN</td>\n",
       "      <td>NaN</td>\n",
       "    </tr>\n",
       "    <tr>\n",
       "      <th>2</th>\n",
       "      <td>8</td>\n",
       "      <td>-1.0</td>\n",
       "      <td>timmins</td>\n",
       "      <td>ontario</td>\n",
       "      <td>canada</td>\n",
       "      <td>1</td>\n",
       "      <td>0002005018</td>\n",
       "      <td>5</td>\n",
       "      <td>Avarege (4-5)</td>\n",
       "      <td>Clara Callan</td>\n",
       "      <td>Richard Bruce Wright</td>\n",
       "      <td>2001.0</td>\n",
       "      <td>HarperFlamingo Canada</td>\n",
       "    </tr>\n",
       "    <tr>\n",
       "      <th>3</th>\n",
       "      <td>8</td>\n",
       "      <td>-1.0</td>\n",
       "      <td>timmins</td>\n",
       "      <td>ontario</td>\n",
       "      <td>canada</td>\n",
       "      <td>1</td>\n",
       "      <td>0060973129</td>\n",
       "      <td>0</td>\n",
       "      <td>Not rated</td>\n",
       "      <td>Decision in Normandy</td>\n",
       "      <td>Carlo D'Este</td>\n",
       "      <td>1991.0</td>\n",
       "      <td>HarperPerennial</td>\n",
       "    </tr>\n",
       "    <tr>\n",
       "      <th>4</th>\n",
       "      <td>8</td>\n",
       "      <td>-1.0</td>\n",
       "      <td>timmins</td>\n",
       "      <td>ontario</td>\n",
       "      <td>canada</td>\n",
       "      <td>1</td>\n",
       "      <td>0374157065</td>\n",
       "      <td>0</td>\n",
       "      <td>Not rated</td>\n",
       "      <td>Flu: The Story of the Great Influenza Pandemic...</td>\n",
       "      <td>Gina Bari Kolata</td>\n",
       "      <td>1999.0</td>\n",
       "      <td>Farrar Straus Giroux</td>\n",
       "    </tr>\n",
       "  </tbody>\n",
       "</table>\n",
       "</div>"
      ],
      "text/plain": [
       "   User-ID   Age        City Region/State Country  Age_Missing        ISBN  \\\n",
       "0        2  18.0    stockton   california     usa            0  0195153448   \n",
       "1        7  -1.0  washington           dc     usa            1   034542252   \n",
       "2        8  -1.0     timmins      ontario  canada            1  0002005018   \n",
       "3        8  -1.0     timmins      ontario  canada            1  0060973129   \n",
       "4        8  -1.0     timmins      ontario  canada            1  0374157065   \n",
       "\n",
       "   Book-Rating   Rating_Categ  \\\n",
       "0            0      Not rated   \n",
       "1            0      Not rated   \n",
       "2            5  Avarege (4-5)   \n",
       "3            0      Not rated   \n",
       "4            0      Not rated   \n",
       "\n",
       "                                          Book-Title           Book-Author  \\\n",
       "0                                Classical Mythology    Mark P. O. Morford   \n",
       "1                                                NaN                   NaN   \n",
       "2                                       Clara Callan  Richard Bruce Wright   \n",
       "3                               Decision in Normandy          Carlo D'Este   \n",
       "4  Flu: The Story of the Great Influenza Pandemic...      Gina Bari Kolata   \n",
       "\n",
       "   Year-Of-Publication                Publisher  \n",
       "0               2002.0  Oxford University Press  \n",
       "1                  NaN                      NaN  \n",
       "2               2001.0    HarperFlamingo Canada  \n",
       "3               1991.0          HarperPerennial  \n",
       "4               1999.0     Farrar Straus Giroux  "
      ]
     },
     "execution_count": 42,
     "metadata": {},
     "output_type": "execute_result"
    }
   ],
   "source": [
    "df = pd.read_csv('model_data/model_data_wo_eXtern.csv')\n",
    "\n",
    "df.head(5)"
   ]
  },
  {
   "cell_type": "markdown",
   "metadata": {},
   "source": [
    "### Remove not rated"
   ]
  },
  {
   "cell_type": "code",
   "execution_count": 43,
   "metadata": {},
   "outputs": [
    {
     "data": {
      "text/plain": [
       "Rating_Categ\n",
       "Not rated           716109\n",
       "Excellent (8-10)    249887\n",
       "Good (6-7)          113381\n",
       "Avarege (4-5)        59878\n",
       "Bad (1-3)            10525\n",
       "Name: count, dtype: int64"
      ]
     },
     "execution_count": 43,
     "metadata": {},
     "output_type": "execute_result"
    }
   ],
   "source": [
    "### Unique values and counts from rating_categ\n",
    "df['Rating_Categ'].value_counts()"
   ]
  },
  {
   "cell_type": "code",
   "execution_count": 44,
   "metadata": {},
   "outputs": [
    {
     "data": {
      "text/plain": [
       "Recommend\n",
       "0    823436\n",
       "1    326344\n",
       "Name: count, dtype: int64"
      ]
     },
     "execution_count": 44,
     "metadata": {},
     "output_type": "execute_result"
    }
   ],
   "source": [
    "### Create a new binary category for rating (everything above 8 is 1, otherwise 0)\n",
    "\n",
    "df['Recommend'] = np.where(df['Book-Rating'] >= 7, 1, 0)\n",
    "\n",
    "df['Not_Recommend'] = np.where((df['Book-Rating'] <= 5) & (df['Book-Rating'] > 0), 1, 0)\n",
    "df['Recommend'].value_counts()"
   ]
  },
  {
   "cell_type": "code",
   "execution_count": 45,
   "metadata": {},
   "outputs": [
    {
     "data": {
      "text/plain": [
       "Not_Recommend\n",
       "0    1079377\n",
       "1      70403\n",
       "Name: count, dtype: int64"
      ]
     },
     "execution_count": 45,
     "metadata": {},
     "output_type": "execute_result"
    }
   ],
   "source": [
    "df['Not_Recommend'].value_counts()"
   ]
  },
  {
   "cell_type": "code",
   "execution_count": null,
   "metadata": {},
   "outputs": [],
   "source": []
  },
  {
   "cell_type": "markdown",
   "metadata": {},
   "source": [
    "Split into train/test/val"
   ]
  },
  {
   "cell_type": "markdown",
   "metadata": {},
   "source": [
    "Select features and targets"
   ]
  },
  {
   "cell_type": "code",
   "execution_count": 46,
   "metadata": {},
   "outputs": [],
   "source": [
    "#features = ['Age', 'City', 'Region/State', 'Country', 'Age_Missing','Year-Of-Publication']\n",
    "features = ['Age', 'Age_Missing','Year-Of-Publication']\n",
    "target_class = 'Recommend'\n",
    "target_reg = 'Book-Rating'"
   ]
  },
  {
   "cell_type": "markdown",
   "metadata": {},
   "source": [
    "### Association rules"
   ]
  },
  {
   "cell_type": "markdown",
   "metadata": {},
   "source": []
  },
  {
   "cell_type": "code",
   "execution_count": 47,
   "metadata": {},
   "outputs": [
    {
     "name": "stdout",
     "output_type": "stream",
     "text": [
      "(1149780, 15)\n"
     ]
    },
    {
     "data": {
      "text/plain": [
       "Index(['User-ID', 'Age', 'City', 'Region/State', 'Country', 'Age_Missing',\n",
       "       'ISBN', 'Book-Rating', 'Rating_Categ', 'Book-Title', 'Book-Author',\n",
       "       'Year-Of-Publication', 'Publisher', 'Recommend', 'Not_Recommend'],\n",
       "      dtype='object')"
      ]
     },
     "execution_count": 47,
     "metadata": {},
     "output_type": "execute_result"
    }
   ],
   "source": [
    "print(df.shape)\n",
    "df.columns"
   ]
  },
  {
   "cell_type": "code",
   "execution_count": 48,
   "metadata": {},
   "outputs": [
    {
     "name": "stdout",
     "output_type": "stream",
     "text": [
      "Unique User-IDs: 105283\n",
      "Unique ISBNs: 340556\n"
     ]
    }
   ],
   "source": [
    "### Unique User-IDs\n",
    "user_ids = len(df['User-ID'].unique())\n",
    "print(f\"Unique User-IDs: {user_ids}\")\n",
    "\n",
    "### Unique ISBNs\n",
    "ISBNs = len(df['ISBN'].unique())\n",
    "print(f\"Unique ISBNs: {ISBNs}\")"
   ]
  },
  {
   "cell_type": "code",
   "execution_count": 49,
   "metadata": {},
   "outputs": [],
   "source": [
    "### Filter boooks"
   ]
  },
  {
   "cell_type": "code",
   "execution_count": 50,
   "metadata": {},
   "outputs": [
    {
     "name": "stdout",
     "output_type": "stream",
     "text": [
      "Unique ISBNs: 1000\n"
     ]
    }
   ],
   "source": [
    "# Get the top N most rated books\n",
    "n_books = 1000\n",
    "\n",
    "top_n_books = df.groupby('ISBN').size().sort_values(ascending=False).head(1000).index\n",
    "\n",
    "# Filter the DataFrame to include only the top N books\n",
    "subset_df_books = df[df['ISBN'].isin(top_n_books)].copy()\n",
    "\n",
    "\n",
    "print(f\"Unique ISBNs: {len(subset_df_books['ISBN'].unique())}\")\n"
   ]
  },
  {
   "cell_type": "markdown",
   "metadata": {},
   "source": [
    "Filter user"
   ]
  },
  {
   "cell_type": "code",
   "execution_count": 51,
   "metadata": {},
   "outputs": [
    {
     "name": "stdout",
     "output_type": "stream",
     "text": [
      "Unique User-IDs: 5498\n",
      "Unique ISBNs: 1000\n"
     ]
    }
   ],
   "source": [
    "# Step 1: Count the number of ratings per user\n",
    "user_counts = df.groupby('User-ID').size()\n",
    "\n",
    "n = 25\n",
    "# Step 2: Filter users who have at least 50 ratings (or any threshold)\n",
    "users_with_at_least_n_ratings = user_counts[user_counts >= 25].index\n",
    "\n",
    "subset_df_book_users = subset_df_books[subset_df_books['User-ID'].isin(users_with_at_least_n_ratings)]\n",
    "\n",
    "print(f\"Unique User-IDs: {len(subset_df_book_users['User-ID'].unique())}\")\n",
    "print(f\"Unique ISBNs: {len(subset_df_book_users['ISBN'].unique())}\")\n"
   ]
  },
  {
   "cell_type": "code",
   "execution_count": 52,
   "metadata": {},
   "outputs": [],
   "source": [
    "user_book_matrix = subset_df_book_users.pivot(index='User-ID', columns='ISBN', values='Recommend').fillna(0)"
   ]
  },
  {
   "cell_type": "code",
   "execution_count": 53,
   "metadata": {},
   "outputs": [
    {
     "data": {
      "text/html": [
       "<div>\n",
       "<style scoped>\n",
       "    .dataframe tbody tr th:only-of-type {\n",
       "        vertical-align: middle;\n",
       "    }\n",
       "\n",
       "    .dataframe tbody tr th {\n",
       "        vertical-align: top;\n",
       "    }\n",
       "\n",
       "    .dataframe thead th {\n",
       "        text-align: right;\n",
       "    }\n",
       "</style>\n",
       "<table border=\"1\" class=\"dataframe\">\n",
       "  <thead>\n",
       "    <tr style=\"text-align: right;\">\n",
       "      <th>ISBN</th>\n",
       "      <th>000649840X</th>\n",
       "      <th>002542730X</th>\n",
       "      <th>0060008032</th>\n",
       "      <th>0060096195</th>\n",
       "      <th>006016848X</th>\n",
       "      <th>0060173289</th>\n",
       "      <th>0060175400</th>\n",
       "      <th>0060188731</th>\n",
       "      <th>006019491X</th>\n",
       "      <th>0060199652</th>\n",
       "    </tr>\n",
       "    <tr>\n",
       "      <th>User-ID</th>\n",
       "      <th></th>\n",
       "      <th></th>\n",
       "      <th></th>\n",
       "      <th></th>\n",
       "      <th></th>\n",
       "      <th></th>\n",
       "      <th></th>\n",
       "      <th></th>\n",
       "      <th></th>\n",
       "      <th></th>\n",
       "    </tr>\n",
       "  </thead>\n",
       "  <tbody>\n",
       "    <tr>\n",
       "      <th>242</th>\n",
       "      <td>0.0</td>\n",
       "      <td>0.0</td>\n",
       "      <td>0.0</td>\n",
       "      <td>0.0</td>\n",
       "      <td>0.0</td>\n",
       "      <td>0.0</td>\n",
       "      <td>0.0</td>\n",
       "      <td>0.0</td>\n",
       "      <td>0.0</td>\n",
       "      <td>0.0</td>\n",
       "    </tr>\n",
       "    <tr>\n",
       "      <th>243</th>\n",
       "      <td>0.0</td>\n",
       "      <td>0.0</td>\n",
       "      <td>0.0</td>\n",
       "      <td>0.0</td>\n",
       "      <td>0.0</td>\n",
       "      <td>0.0</td>\n",
       "      <td>0.0</td>\n",
       "      <td>0.0</td>\n",
       "      <td>0.0</td>\n",
       "      <td>0.0</td>\n",
       "    </tr>\n",
       "    <tr>\n",
       "      <th>254</th>\n",
       "      <td>0.0</td>\n",
       "      <td>0.0</td>\n",
       "      <td>0.0</td>\n",
       "      <td>0.0</td>\n",
       "      <td>0.0</td>\n",
       "      <td>0.0</td>\n",
       "      <td>0.0</td>\n",
       "      <td>0.0</td>\n",
       "      <td>0.0</td>\n",
       "      <td>0.0</td>\n",
       "    </tr>\n",
       "    <tr>\n",
       "      <th>383</th>\n",
       "      <td>0.0</td>\n",
       "      <td>0.0</td>\n",
       "      <td>0.0</td>\n",
       "      <td>0.0</td>\n",
       "      <td>0.0</td>\n",
       "      <td>0.0</td>\n",
       "      <td>0.0</td>\n",
       "      <td>0.0</td>\n",
       "      <td>0.0</td>\n",
       "      <td>0.0</td>\n",
       "    </tr>\n",
       "    <tr>\n",
       "      <th>446</th>\n",
       "      <td>0.0</td>\n",
       "      <td>0.0</td>\n",
       "      <td>0.0</td>\n",
       "      <td>0.0</td>\n",
       "      <td>0.0</td>\n",
       "      <td>0.0</td>\n",
       "      <td>0.0</td>\n",
       "      <td>0.0</td>\n",
       "      <td>0.0</td>\n",
       "      <td>0.0</td>\n",
       "    </tr>\n",
       "    <tr>\n",
       "      <th>487</th>\n",
       "      <td>0.0</td>\n",
       "      <td>0.0</td>\n",
       "      <td>0.0</td>\n",
       "      <td>0.0</td>\n",
       "      <td>0.0</td>\n",
       "      <td>0.0</td>\n",
       "      <td>0.0</td>\n",
       "      <td>0.0</td>\n",
       "      <td>0.0</td>\n",
       "      <td>0.0</td>\n",
       "    </tr>\n",
       "    <tr>\n",
       "      <th>503</th>\n",
       "      <td>0.0</td>\n",
       "      <td>0.0</td>\n",
       "      <td>0.0</td>\n",
       "      <td>0.0</td>\n",
       "      <td>0.0</td>\n",
       "      <td>0.0</td>\n",
       "      <td>0.0</td>\n",
       "      <td>0.0</td>\n",
       "      <td>0.0</td>\n",
       "      <td>0.0</td>\n",
       "    </tr>\n",
       "    <tr>\n",
       "      <th>507</th>\n",
       "      <td>0.0</td>\n",
       "      <td>0.0</td>\n",
       "      <td>0.0</td>\n",
       "      <td>0.0</td>\n",
       "      <td>0.0</td>\n",
       "      <td>0.0</td>\n",
       "      <td>0.0</td>\n",
       "      <td>0.0</td>\n",
       "      <td>0.0</td>\n",
       "      <td>0.0</td>\n",
       "    </tr>\n",
       "    <tr>\n",
       "      <th>626</th>\n",
       "      <td>0.0</td>\n",
       "      <td>0.0</td>\n",
       "      <td>0.0</td>\n",
       "      <td>0.0</td>\n",
       "      <td>0.0</td>\n",
       "      <td>0.0</td>\n",
       "      <td>0.0</td>\n",
       "      <td>0.0</td>\n",
       "      <td>0.0</td>\n",
       "      <td>0.0</td>\n",
       "    </tr>\n",
       "    <tr>\n",
       "      <th>638</th>\n",
       "      <td>0.0</td>\n",
       "      <td>0.0</td>\n",
       "      <td>0.0</td>\n",
       "      <td>0.0</td>\n",
       "      <td>0.0</td>\n",
       "      <td>0.0</td>\n",
       "      <td>0.0</td>\n",
       "      <td>0.0</td>\n",
       "      <td>0.0</td>\n",
       "      <td>0.0</td>\n",
       "    </tr>\n",
       "  </tbody>\n",
       "</table>\n",
       "</div>"
      ],
      "text/plain": [
       "ISBN     000649840X  002542730X  0060008032  0060096195  006016848X  \\\n",
       "User-ID                                                               \n",
       "242             0.0         0.0         0.0         0.0         0.0   \n",
       "243             0.0         0.0         0.0         0.0         0.0   \n",
       "254             0.0         0.0         0.0         0.0         0.0   \n",
       "383             0.0         0.0         0.0         0.0         0.0   \n",
       "446             0.0         0.0         0.0         0.0         0.0   \n",
       "487             0.0         0.0         0.0         0.0         0.0   \n",
       "503             0.0         0.0         0.0         0.0         0.0   \n",
       "507             0.0         0.0         0.0         0.0         0.0   \n",
       "626             0.0         0.0         0.0         0.0         0.0   \n",
       "638             0.0         0.0         0.0         0.0         0.0   \n",
       "\n",
       "ISBN     0060173289  0060175400  0060188731  006019491X  0060199652  \n",
       "User-ID                                                              \n",
       "242             0.0         0.0         0.0         0.0         0.0  \n",
       "243             0.0         0.0         0.0         0.0         0.0  \n",
       "254             0.0         0.0         0.0         0.0         0.0  \n",
       "383             0.0         0.0         0.0         0.0         0.0  \n",
       "446             0.0         0.0         0.0         0.0         0.0  \n",
       "487             0.0         0.0         0.0         0.0         0.0  \n",
       "503             0.0         0.0         0.0         0.0         0.0  \n",
       "507             0.0         0.0         0.0         0.0         0.0  \n",
       "626             0.0         0.0         0.0         0.0         0.0  \n",
       "638             0.0         0.0         0.0         0.0         0.0  "
      ]
     },
     "execution_count": 53,
     "metadata": {},
     "output_type": "execute_result"
    }
   ],
   "source": [
    "user_book_matrix.iloc[0:10,0:10]"
   ]
  },
  {
   "cell_type": "code",
   "execution_count": 54,
   "metadata": {},
   "outputs": [
    {
     "data": {
      "text/plain": [
       "ISBN\n",
       "0316666343    281.0\n",
       "0385504209    228.0\n",
       "059035342X    165.0\n",
       "0312195516    159.0\n",
       "043935806X    139.0\n",
       "0679781587    138.0\n",
       "0142001740    136.0\n",
       "0446672211    131.0\n",
       "0060928336    126.0\n",
       "0446310786    122.0\n",
       "dtype: float64"
      ]
     },
     "execution_count": 54,
     "metadata": {},
     "output_type": "execute_result"
    }
   ],
   "source": [
    "user_book_matrix.sum().sort_values(ascending=False).head(10)"
   ]
  },
  {
   "cell_type": "markdown",
   "metadata": {},
   "source": [
    "### Simple reccomnendation system"
   ]
  },
  {
   "cell_type": "code",
   "execution_count": 59,
   "metadata": {},
   "outputs": [],
   "source": [
    "def recommend_books(selected_ISBN, df):\n",
    "    \"\"\"Finds books liked by users who also liked the selected ISBN.\"\"\"\n",
    "    \n",
    "    # Step 1: Find users who liked the selected book\n",
    "    users_who_liked = df[(df['ISBN'] == selected_ISBN) & (df['Recommend'])]\n",
    "    users_list = users_who_liked['User-ID'].unique()\n",
    "\n",
    "    # Step 2: Find other books these users also liked\n",
    "    other_books = df[(df['User-ID'].isin(users_list)) & (df['Recommend']) & (df['ISBN'] != selected_ISBN)]\n",
    "\n",
    "    # Step 3: Count occurrences of each recommended book\n",
    "    book_counts = other_books['ISBN'].value_counts().reset_index()\n",
    "    book_counts.columns = ['Recommended ISBN', 'Count']\n",
    "\n",
    "    ## Look up book nammes\n",
    "    book_counts = book_counts.merge(df[['ISBN', 'Book-Title']].drop_duplicates(), how='left', left_on='Recommended ISBN', right_on='ISBN')\n",
    "\n",
    "    book_counts = book_counts.drop('ISBN', axis=1)\t\n",
    "    return book_counts\n",
    "\n"
   ]
  },
  {
   "cell_type": "code",
   "execution_count": 67,
   "metadata": {},
   "outputs": [],
   "source": [
    "def recommend_books(selected_ISBN, df):\n",
    "    \"\"\"Finds books liked by users who also liked the selected ISBN.\"\"\"\n",
    "    \n",
    "    # Step 1: Find users who liked the selected book\n",
    "    users_who_liked = df[(df['ISBN'] == selected_ISBN) & (df['Recommend'])]\n",
    "    users_list = users_who_liked['User-ID'].unique()\n",
    "\n",
    "    # Step 2: Find other books these users also liked\n",
    "    other_books = df[(df['User-ID'].isin(users_list)) & (df['ISBN'] != selected_ISBN)]\n",
    "    \n",
    "    # Step 3: Count occurrences of each recommended book\n",
    "    recommended_books = other_books[other_books['Recommend']]\n",
    "    book_counts = recommended_books['ISBN'].value_counts().reset_index()\n",
    "    book_counts.columns = ['Recommended ISBN', 'Recommend Count']\n",
    "    \n",
    "    # Step 4: Count occurrences of 'Not Recommend' for the same books\n",
    "    not_recommended_books = other_books[other_books['Not_Recommend']]\n",
    "    not_recommend_counts = not_recommended_books['ISBN'].value_counts().reset_index()\n",
    "    not_recommend_counts.columns = ['Recommended ISBN', 'Not Recommend Count']\n",
    "    \n",
    "    # Merge both counts\n",
    "    book_counts = book_counts.merge(not_recommend_counts, on='Recommended ISBN', how='left').fillna(0)\n",
    "    \n",
    "    # Look up book names\n",
    "    book_counts = book_counts.merge(df[['ISBN', 'Book-Title']].drop_duplicates(), how='left', left_on='Recommended ISBN', right_on='ISBN')\n",
    "    book_counts = book_counts.drop('ISBN', axis=1)\n",
    "    \n",
    "    return book_counts\n"
   ]
  },
  {
   "cell_type": "code",
   "execution_count": 68,
   "metadata": {},
   "outputs": [
    {
     "name": "stdout",
     "output_type": "stream",
     "text": [
      "Selected Book: Harry Potter and the Sorcerer's Stone (Harry Potter (Paperback))\n"
     ]
    },
    {
     "ename": "KeyError",
     "evalue": "\"None of [Index([0, 0, 0, 1, 0, 1, 0, 0, 0, 1,\\n       ...\\n       0, 1, 0, 1, 0, 0, 1, 0, 1, 0],\\n      dtype='int64', length=8242)] are in the [columns]\"",
     "output_type": "error",
     "traceback": [
      "\u001b[1;31m---------------------------------------------------------------------------\u001b[0m",
      "\u001b[1;31mKeyError\u001b[0m                                  Traceback (most recent call last)",
      "Cell \u001b[1;32mIn[68], line 8\u001b[0m\n\u001b[0;32m      5\u001b[0m selected_book_name \u001b[38;5;241m=\u001b[39m df[df[\u001b[38;5;124m'\u001b[39m\u001b[38;5;124mISBN\u001b[39m\u001b[38;5;124m'\u001b[39m] \u001b[38;5;241m==\u001b[39m selected_book][\u001b[38;5;124m'\u001b[39m\u001b[38;5;124mBook-Title\u001b[39m\u001b[38;5;124m'\u001b[39m]\u001b[38;5;241m.\u001b[39mvalues[\u001b[38;5;241m0\u001b[39m]\n\u001b[0;32m      6\u001b[0m \u001b[38;5;28mprint\u001b[39m(\u001b[38;5;124mf\u001b[39m\u001b[38;5;124m\"\u001b[39m\u001b[38;5;124mSelected Book: \u001b[39m\u001b[38;5;132;01m{\u001b[39;00mselected_book_name\u001b[38;5;132;01m}\u001b[39;00m\u001b[38;5;124m\"\u001b[39m)\n\u001b[1;32m----> 8\u001b[0m recommendations \u001b[38;5;241m=\u001b[39m \u001b[43mrecommend_books\u001b[49m\u001b[43m(\u001b[49m\u001b[43mselected_book\u001b[49m\u001b[43m,\u001b[49m\u001b[43m \u001b[49m\u001b[43msubset_df_book_users\u001b[49m\u001b[43m)\u001b[49m\n\u001b[0;32m     10\u001b[0m \u001b[38;5;28mprint\u001b[39m(recommendations\u001b[38;5;241m.\u001b[39mhead(\u001b[38;5;241m100\u001b[39m))\n",
      "Cell \u001b[1;32mIn[67], line 12\u001b[0m, in \u001b[0;36mrecommend_books\u001b[1;34m(selected_ISBN, df)\u001b[0m\n\u001b[0;32m      9\u001b[0m other_books \u001b[38;5;241m=\u001b[39m df[(df[\u001b[38;5;124m'\u001b[39m\u001b[38;5;124mUser-ID\u001b[39m\u001b[38;5;124m'\u001b[39m]\u001b[38;5;241m.\u001b[39misin(users_list)) \u001b[38;5;241m&\u001b[39m (df[\u001b[38;5;124m'\u001b[39m\u001b[38;5;124mISBN\u001b[39m\u001b[38;5;124m'\u001b[39m] \u001b[38;5;241m!=\u001b[39m selected_ISBN)]\n\u001b[0;32m     11\u001b[0m \u001b[38;5;66;03m# Step 3: Count occurrences of each recommended book\u001b[39;00m\n\u001b[1;32m---> 12\u001b[0m recommended_books \u001b[38;5;241m=\u001b[39m \u001b[43mother_books\u001b[49m\u001b[43m[\u001b[49m\u001b[43mother_books\u001b[49m\u001b[43m[\u001b[49m\u001b[38;5;124;43m'\u001b[39;49m\u001b[38;5;124;43mRecommend\u001b[39;49m\u001b[38;5;124;43m'\u001b[39;49m\u001b[43m]\u001b[49m\u001b[43m]\u001b[49m\n\u001b[0;32m     13\u001b[0m book_counts \u001b[38;5;241m=\u001b[39m recommended_books[\u001b[38;5;124m'\u001b[39m\u001b[38;5;124mISBN\u001b[39m\u001b[38;5;124m'\u001b[39m]\u001b[38;5;241m.\u001b[39mvalue_counts()\u001b[38;5;241m.\u001b[39mreset_index()\n\u001b[0;32m     14\u001b[0m book_counts\u001b[38;5;241m.\u001b[39mcolumns \u001b[38;5;241m=\u001b[39m [\u001b[38;5;124m'\u001b[39m\u001b[38;5;124mRecommended ISBN\u001b[39m\u001b[38;5;124m'\u001b[39m, \u001b[38;5;124m'\u001b[39m\u001b[38;5;124mRecommend Count\u001b[39m\u001b[38;5;124m'\u001b[39m]\n",
      "File \u001b[1;32mc:\\GIT\\02. Personal\\book-recommendation\\.venv\\Lib\\site-packages\\pandas\\core\\frame.py:4108\u001b[0m, in \u001b[0;36mDataFrame.__getitem__\u001b[1;34m(self, key)\u001b[0m\n\u001b[0;32m   4106\u001b[0m     \u001b[38;5;28;01mif\u001b[39;00m is_iterator(key):\n\u001b[0;32m   4107\u001b[0m         key \u001b[38;5;241m=\u001b[39m \u001b[38;5;28mlist\u001b[39m(key)\n\u001b[1;32m-> 4108\u001b[0m     indexer \u001b[38;5;241m=\u001b[39m \u001b[38;5;28;43mself\u001b[39;49m\u001b[38;5;241;43m.\u001b[39;49m\u001b[43mcolumns\u001b[49m\u001b[38;5;241;43m.\u001b[39;49m\u001b[43m_get_indexer_strict\u001b[49m\u001b[43m(\u001b[49m\u001b[43mkey\u001b[49m\u001b[43m,\u001b[49m\u001b[43m \u001b[49m\u001b[38;5;124;43m\"\u001b[39;49m\u001b[38;5;124;43mcolumns\u001b[39;49m\u001b[38;5;124;43m\"\u001b[39;49m\u001b[43m)\u001b[49m[\u001b[38;5;241m1\u001b[39m]\n\u001b[0;32m   4110\u001b[0m \u001b[38;5;66;03m# take() does not accept boolean indexers\u001b[39;00m\n\u001b[0;32m   4111\u001b[0m \u001b[38;5;28;01mif\u001b[39;00m \u001b[38;5;28mgetattr\u001b[39m(indexer, \u001b[38;5;124m\"\u001b[39m\u001b[38;5;124mdtype\u001b[39m\u001b[38;5;124m\"\u001b[39m, \u001b[38;5;28;01mNone\u001b[39;00m) \u001b[38;5;241m==\u001b[39m \u001b[38;5;28mbool\u001b[39m:\n",
      "File \u001b[1;32mc:\\GIT\\02. Personal\\book-recommendation\\.venv\\Lib\\site-packages\\pandas\\core\\indexes\\base.py:6200\u001b[0m, in \u001b[0;36mIndex._get_indexer_strict\u001b[1;34m(self, key, axis_name)\u001b[0m\n\u001b[0;32m   6197\u001b[0m \u001b[38;5;28;01melse\u001b[39;00m:\n\u001b[0;32m   6198\u001b[0m     keyarr, indexer, new_indexer \u001b[38;5;241m=\u001b[39m \u001b[38;5;28mself\u001b[39m\u001b[38;5;241m.\u001b[39m_reindex_non_unique(keyarr)\n\u001b[1;32m-> 6200\u001b[0m \u001b[38;5;28;43mself\u001b[39;49m\u001b[38;5;241;43m.\u001b[39;49m\u001b[43m_raise_if_missing\u001b[49m\u001b[43m(\u001b[49m\u001b[43mkeyarr\u001b[49m\u001b[43m,\u001b[49m\u001b[43m \u001b[49m\u001b[43mindexer\u001b[49m\u001b[43m,\u001b[49m\u001b[43m \u001b[49m\u001b[43maxis_name\u001b[49m\u001b[43m)\u001b[49m\n\u001b[0;32m   6202\u001b[0m keyarr \u001b[38;5;241m=\u001b[39m \u001b[38;5;28mself\u001b[39m\u001b[38;5;241m.\u001b[39mtake(indexer)\n\u001b[0;32m   6203\u001b[0m \u001b[38;5;28;01mif\u001b[39;00m \u001b[38;5;28misinstance\u001b[39m(key, Index):\n\u001b[0;32m   6204\u001b[0m     \u001b[38;5;66;03m# GH 42790 - Preserve name from an Index\u001b[39;00m\n",
      "File \u001b[1;32mc:\\GIT\\02. Personal\\book-recommendation\\.venv\\Lib\\site-packages\\pandas\\core\\indexes\\base.py:6249\u001b[0m, in \u001b[0;36mIndex._raise_if_missing\u001b[1;34m(self, key, indexer, axis_name)\u001b[0m\n\u001b[0;32m   6247\u001b[0m \u001b[38;5;28;01mif\u001b[39;00m nmissing:\n\u001b[0;32m   6248\u001b[0m     \u001b[38;5;28;01mif\u001b[39;00m nmissing \u001b[38;5;241m==\u001b[39m \u001b[38;5;28mlen\u001b[39m(indexer):\n\u001b[1;32m-> 6249\u001b[0m         \u001b[38;5;28;01mraise\u001b[39;00m \u001b[38;5;167;01mKeyError\u001b[39;00m(\u001b[38;5;124mf\u001b[39m\u001b[38;5;124m\"\u001b[39m\u001b[38;5;124mNone of [\u001b[39m\u001b[38;5;132;01m{\u001b[39;00mkey\u001b[38;5;132;01m}\u001b[39;00m\u001b[38;5;124m] are in the [\u001b[39m\u001b[38;5;132;01m{\u001b[39;00maxis_name\u001b[38;5;132;01m}\u001b[39;00m\u001b[38;5;124m]\u001b[39m\u001b[38;5;124m\"\u001b[39m)\n\u001b[0;32m   6251\u001b[0m     not_found \u001b[38;5;241m=\u001b[39m \u001b[38;5;28mlist\u001b[39m(ensure_index(key)[missing_mask\u001b[38;5;241m.\u001b[39mnonzero()[\u001b[38;5;241m0\u001b[39m]]\u001b[38;5;241m.\u001b[39munique())\n\u001b[0;32m   6252\u001b[0m     \u001b[38;5;28;01mraise\u001b[39;00m \u001b[38;5;167;01mKeyError\u001b[39;00m(\u001b[38;5;124mf\u001b[39m\u001b[38;5;124m\"\u001b[39m\u001b[38;5;132;01m{\u001b[39;00mnot_found\u001b[38;5;132;01m}\u001b[39;00m\u001b[38;5;124m not in index\u001b[39m\u001b[38;5;124m\"\u001b[39m)\n",
      "\u001b[1;31mKeyError\u001b[0m: \"None of [Index([0, 0, 0, 1, 0, 1, 0, 0, 0, 1,\\n       ...\\n       0, 1, 0, 1, 0, 0, 1, 0, 1, 0],\\n      dtype='int64', length=8242)] are in the [columns]\""
     ]
    }
   ],
   "source": [
    "# Example: User selects ISBN \"12345\"\n",
    "selected_book = \"059035342X\"\n",
    "\n",
    "### Look up book name for selected book\n",
    "selected_book_name = df[df['ISBN'] == selected_book]['Book-Title'].values[0]\n",
    "print(f\"Selected Book: {selected_book_name}\")\n",
    "\n",
    "recommendations = recommend_books(selected_book, subset_df_book_users)\n",
    "\n",
    "print(recommendations.head(100))"
   ]
  },
  {
   "cell_type": "code",
   "execution_count": null,
   "metadata": {},
   "outputs": [
    {
     "data": {
      "text/plain": [
       "['The Da Vinci Code',\n",
       " 'The Villa',\n",
       " 'Harry Potter and the Goblet of Fire (Book 4)',\n",
       " 'I Know This Much Is True',\n",
       " 'A Time to Kill',\n",
       " 'The Tao of Pooh',\n",
       " 'Harry Potter and the Chamber of Secrets (Book 2)',\n",
       " 'Summer Sisters',\n",
       " 'Three To Get Deadly : A Stephanie Plum Novel (A Stephanie Plum Novel)']"
      ]
     },
     "execution_count": 31,
     "metadata": {},
     "output_type": "execute_result"
    }
   ],
   "source": [
    "### Select 5 from the top 10 books and 5 from the other 90\n",
    "\n",
    "top_10 = recommendations.head(10)\n",
    "further_90 = recommendations.iloc[10:100]\n",
    "\n",
    "\n",
    "### Select 5 random books from the top 10\n",
    "top_5 = top_10.sample(5)['Book-Title'].values\n",
    "\n",
    "### Select 5 random books from the other 90\n",
    "further_5 = further_90.sample(5)['Book-Title'].values\n",
    "\n",
    "### Combine the two lists and remove duplicates\n",
    "final_recommendations = top_5.tolist() + further_5.tolist()\n",
    "## Remove duplicates\n",
    "final_recommendations = list(set(final_recommendations))\n",
    "\n",
    "\n",
    "\n",
    "final_recommendations"
   ]
  },
  {
   "cell_type": "code",
   "execution_count": null,
   "metadata": {},
   "outputs": [
    {
     "data": {
      "text/plain": [
       "(852, 3)"
      ]
     },
     "execution_count": 25,
     "metadata": {},
     "output_type": "execute_result"
    }
   ],
   "source": []
  },
  {
   "cell_type": "code",
   "execution_count": null,
   "metadata": {},
   "outputs": [],
   "source": []
  }
 ],
 "metadata": {
  "kernelspec": {
   "display_name": ".venv",
   "language": "python",
   "name": "python3"
  },
  "language_info": {
   "codemirror_mode": {
    "name": "ipython",
    "version": 3
   },
   "file_extension": ".py",
   "mimetype": "text/x-python",
   "name": "python",
   "nbconvert_exporter": "python",
   "pygments_lexer": "ipython3",
   "version": "3.11.9"
  }
 },
 "nbformat": 4,
 "nbformat_minor": 2
}
